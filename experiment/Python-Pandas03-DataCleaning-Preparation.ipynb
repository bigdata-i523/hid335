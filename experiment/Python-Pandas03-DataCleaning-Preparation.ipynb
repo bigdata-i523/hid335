{
 "cells": [
  {
   "cell_type": "markdown",
   "metadata": {},
   "source": [
    "# Data Cleaning and Preparation\n",
    "### Resources: \n",
    "Chapter 7 in 'Python for Data Analysis' by Wes McKinney (2017, O'Reilly)\n",
    "* https://github.com/wesm/pydata-book\n",
    "\n",
    "Chapter 3 in 'Python Data Science Handbook' by Jake VanderPlas (2016, O'Reilly)\n",
    "* https://jakevdp.github.io/PythonDataScienceHandbook/\n",
    "\n",
    "## Dataset: 2015 NSDUH\n",
    "* National Survey on Drug Abuse and Health (NSDUH) 2015 \n",
    "* Substance Abuse and Mental Health Services Administration \n",
    "* Center for Behavioral Health Statistics and Quality, October 27, 2016\n",
    "* http://datafiles.samhsa.gov/study/national-survey-drug-use-and-health-nsduh-2015-nid16893\n",
    "\n",
    "\n",
    "## Step1: Load the data\n",
    "* Import python modules\n",
    "* load data file and save as DataFrame object\n",
    "* Subset dataframe by column"
   ]
  },
  {
   "cell_type": "code",
   "execution_count": null,
   "metadata": {
    "collapsed": true
   },
   "outputs": [],
   "source": [
    "import numpy as np\n",
    "import pandas as pd\n",
    "import matplotlib.pyplot as plt\n",
    "%matplotlib inline"
   ]
  },
  {
   "cell_type": "code",
   "execution_count": null,
   "metadata": {
    "collapsed": true
   },
   "outputs": [],
   "source": [
    "file = pd.read_table('NSDUH-2015.tsv', low_memory=False)\n",
    "data = pd.DataFrame(file)"
   ]
  },
  {
   "cell_type": "code",
   "execution_count": null,
   "metadata": {},
   "outputs": [],
   "source": [
    "data.shape"
   ]
  },
  {
   "cell_type": "code",
   "execution_count": null,
   "metadata": {},
   "outputs": [],
   "source": [
    "df = pd.DataFrame(data, columns=['QUESTID2', 'CATAG6', 'IRSEX','IRMARITSTAT',\n",
    "        'EDUHIGHCAT', 'IRWRKSTAT18', 'COUTYP2', 'HEALTH2','STDANYYR1',\n",
    "        'HEPBCEVER1','HIVAIDSEV1','CANCEREVR1','INHOSPYR','AMDELT',\n",
    "        'AMDEYR','ADDPR2WK1','ADWRDST1','DSTWORST1','IMPGOUTM1',\n",
    "        'IMPSOCM1','IMPRESPM1','SUICTHNK1','SUICPLAN1','SUICTRY1',\n",
    "        'PNRNMLIF','PNRNM30D','PNRWYGAMT','PNRNMFLAG','PNRNMYR',\n",
    "        'PNRNMMON','OXYCNNMYR','DEPNDPYPNR','ABUSEPYPNR','PNRRSHIGH',\n",
    "        'HYDCPDAPYU','OXYCPDAPYU','OXCNANYYR2','TRAMPDAPYU','MORPPDAPYU',\n",
    "        'FENTPDAPYU','BUPRPDAPYU','OXYMPDAPYU','DEMEPDAPYU','HYDMPDAPYU',\n",
    "        'HERFLAG','HERYR','HERMON','ABODHER', 'MTDNPDAPYU',\n",
    "        'IRHERFY','TRBENZAPYU','ALPRPDAPYU','LORAPDAPYU','CLONPDAPYU',\n",
    "        'DIAZPDAPYU','SVBENZAPYU','TRIAPDAPYU','TEMAPDAPYU','BARBITAPYU',\n",
    "        'SEDOTANYR2','COCFLAG','COCYR','COCMON','CRKFLAG',\n",
    "        'CRKYR','AMMEPDAPYU','METHAMFLAG','METHAMYR','METHAMMON',\n",
    "        'HALLUCFLAG','LSDFLAG','ECSTMOFLAG','DAMTFXFLAG','KETMINFLAG',\n",
    "        'TXYRRESOV1','TXYROUTPT1','TXYRMHCOP1','TXYREMRGN1','TXCURRENT1',\n",
    "        'TXLTYPNRL1','TXYRNOSPIL','AUOPTYR1','MHLMNT3','MHLTHER3',\n",
    "        'MHLDOC3','MHLCLNC3','MHLDTMT3','AUINPYR1','AUALTYR1'])\n",
    "df.shape"
   ]
  },
  {
   "cell_type": "code",
   "execution_count": null,
   "metadata": {},
   "outputs": [],
   "source": [
    "df.head()"
   ]
  },
  {
   "cell_type": "code",
   "execution_count": null,
   "metadata": {},
   "outputs": [],
   "source": [
    "df.tail()"
   ]
  },
  {
   "cell_type": "markdown",
   "metadata": {},
   "source": [
    "## Step 2: Recode null and missing values `NaN` \n",
    "* Replace values for `Bad Data`, `Don't know`, `Refused`, `Blank`, `Skip` with `NaN`\n",
    "* Replace `NaN` with `0`"
   ]
  },
  {
   "cell_type": "code",
   "execution_count": null,
   "metadata": {},
   "outputs": [],
   "source": [
    "df.replace([83, 85, 91, 93, 94, 97, 98, 99, 991, 993], np.nan, inplace=True)\n",
    "df.fillna(0, inplace=True)\n",
    "df.head()"
   ]
  },
  {
   "cell_type": "markdown",
   "metadata": {
    "collapsed": true
   },
   "source": [
    "## Step 3: Recode values for selected features:\n",
    "Order matters here, because some features were saved as new variables\n",
    "* Recode `2=0`: \n",
    "`['STDANYYR1','HEPBCEVER1', 'HIVAIDSEV1', 'CANCEREVR1', 'INHOSPYR ',\n",
    "  'AMDELT','AMDEYR','ADDPR2WK1','DSTWORST1', 'IMPGOUTM1',\n",
    "  'IMPSOCM1','IMPRESPM1','SUICTHNK1','SUICPLAN1','SUICTRY1',\n",
    "  'PNRNMLIF','PNRNM30D','PNRWYGAMT','PNRWYGAMT','PNRRSHIGH'\n",
    "  'TXYRRESOV1','TXYROUTPT1','TXYRMHCOP1','TXYREMRGN1', 'TXCURRENT1', \n",
    "  'TXLTYPNRL1','AUOPTYR1','AUINPYR1','AUALTYR1']`  \n",
    "* Recode `3=1`: `['PNRRSHIGH', 'TXLTYPNRL1','TXYREMRGN1', 'AUOPTYR1','AUALTYR1']`\n",
    "* Recode `5=1`: `['TXYRRESOV1', 'TXYROUTPT1','TXYRMHCOP1']`\n",
    "* Recode `6=0`: `TXLTYPNRL`\n",
    "* Recode `male=0`, `female=1`: `IRSEX` \n",
    "* Recode `1=4`, `2=3`, `3=2`, `4=1`: `IRMARITSTAT` \n",
    "* Recode `5=0`: `EDUHIGHCAT`\n",
    "* Recode `1=2`, `2=1`, `3=0`, `4=0`: `IRWRKSTAT18` \n",
    "* Recode `1=3`, `3=1`: `COUTYP2`: \n",
    "* Recode `1=0`, `2=1`, `3=2`, `4=3`: `ADWRDST1` "
   ]
  },
  {
   "cell_type": "code",
   "execution_count": null,
   "metadata": {},
   "outputs": [],
   "source": [
    "columns = ['STDANYYR1','HEPBCEVER1', 'HIVAIDSEV1', 'CANCEREVR1', 'INHOSPYR ',\n",
    "  'AMDELT','AMDEYR','ADDPR2WK1','DSTWORST1', 'IMPGOUTM1',\n",
    "  'IMPSOCM1','IMPRESPM1','SUICTHNK1','SUICPLAN1','SUICTRY1',\n",
    "  'PNRNMLIF','PNRNM30D','PNRWYGAMT','PNRWYGAMT','PNRRSHIGH'\n",
    "  'TXYRRESOV1','TXYROUTPT1','TXYRMHCOP1','TXYREMRGN1', 'TXCURRENT1', \n",
    "  'TXLTYPNRL1','AUOPTYR1','AUINPYR1','AUALTYR1']\n",
    " \n",
    "for col in df:\n",
    "    df[col].replace(2,1,inplace=True)\n",
    "\n",
    "df.head()"
   ]
  },
  {
   "cell_type": "code",
   "execution_count": null,
   "metadata": {},
   "outputs": [],
   "source": [
    "col = ['PNRRSHIGH', 'TXLTYPNRL1', 'TXYREMRGN1', 'AUOPTYR1','AUALTYR1']\n",
    "\n",
    "for col in df:\n",
    "    df[col].replace(3,1,inplace=True)\n",
    "\n",
    "df.head()"
   ]
  },
  {
   "cell_type": "code",
   "execution_count": null,
   "metadata": {},
   "outputs": [],
   "source": [
    "df['SEX'] = df['IRSEX'].replace([1,2], [0,1])\n",
    "df['MARRIED'] = df['IRMARITSTAT'].replace([1,2,3,4], [4,3,2,1])\n",
    "df['EDUCAT'] = df['EDUHIGHCAT'].replace([1,2,3,4,5], [2,3,4,5,1])\n",
    "df['EMPLOY18'] = df['IRWRKSTAT18'].replace([1,2,3,4], [2,1,0,0])\n",
    "df['CTYMETRO'] = df['COUTYP2'].replace([1,2,3],[3,2,1])\n",
    "\n",
    "df['EMODSWKS'] = df['ADWRDST1'].replace([1,2,3,4], [0,1,2,3])\n",
    "df['TXLTPNRL'] = df['TXLTYPNRL1'].replace(6,0)\n",
    "\n",
    "df['TXYRRESOV'] = df['TXYRRESOV1'].replace(5,1)\n",
    "df['TXYROUTPT'] = df['TXYROUTPT1'].replace(5,1)\n",
    "df['TXYRMHCOP'] = df['TXYRMHCOP1'].replace(5,1)\n",
    "\n",
    "df.head()"
   ]
  },
  {
   "cell_type": "code",
   "execution_count": null,
   "metadata": {},
   "outputs": [],
   "source": [
    "df.shape"
   ]
  },
  {
   "cell_type": "markdown",
   "metadata": {},
   "source": [
    "### Examine column names"
   ]
  },
  {
   "cell_type": "code",
   "execution_count": null,
   "metadata": {},
   "outputs": [],
   "source": [
    "df.columns"
   ]
  },
  {
   "cell_type": "markdown",
   "metadata": {},
   "source": [
    "## Step 4: Rename Select Features for Description"
   ]
  },
  {
   "cell_type": "code",
   "execution_count": null,
   "metadata": {},
   "outputs": [],
   "source": [
    "df =  df.rename(columns={'QUESTID2':'QID','CATAG6':'AGECAT',\n",
    "     'STDANYYR1':'STDPYR','HEPBCEVER1':'HEPEVR','CANCEREVR1':'CANCEVR','INHOSPYR':'HOSPYR', \n",
    "     'AMDELT':'DEPMELT','AMDEYR':'DEPMEYR','ADDPR2WK1':'DEPMWKS','DSTWORST1':'DEPWMOS',\n",
    "     'IMPGOUTM1':'EMOPGOUT','IMPSOCM1':'EMOPSOC','IMPRESPM1':'EMOPWRK',\n",
    "     'SUICTHNK1':'SUICTHT','SUICPLAN1':'SUICPLN','SUICTRY1':'SUICATT',\n",
    "     'PNRNMLIF':'PRLUNDR','PNRNM30D':'PRLUNDR30','PNRWYGAMT':'PRLGRTYR',\n",
    "     'PNRNMFLAG':'PRLMISEVR','PNRNMYR':'PRLMISYR','PNRNMMON':'PRLMISMO',\n",
    "     'OXYCNNMYR':'PRLOXYMSYR','DEPNDPYPNR':'PRLDEPYR','ABUSEPYPNR':'PRLABSRY',     \n",
    "     'PNRRSHIGH':'PRLHIGH','HYDCPDAPYU':'HYDRCDYR','OXYCPDAPYU':'OXYCDPRYR', \n",
    "     'OXCNANYYR2':'OXYCTNYR','TRAMPDAPYU':'TRMADLYR','MORPPDAPYU':'MORPHPRYR',\n",
    "     'FENTPDAPYU':'FENTNYLYR','BUPRPDAPYU':'BUPRNRPHN','OXYMPDAPYU':'OXYMORPHN',\n",
    "     'DEMEPDAPYU':'DEMEROL','HYDMPDAPYU':'HYDRMRPHN','HERFLAG':'HEROINEVR',\n",
    "     'HERYR':'HEROINYR', 'HERMON':'HEROINMO','ABODHER':'HEROINAB',\n",
    "     'MTDNPDAPYU':'METHADONE','IRHERFY':'HEROINFQY',\n",
    "     'TRBENZAPYU':'TRQBENZODZ','ALPRPDAPYU':'TRQALPRZM','LORAPDAPYU':'TRQLRZPM',\n",
    "     'CLONPDAPYU':'TRQCLNZPM','DIAZPDAPYU':'TRQDIAZPM','SVBENZAPYU':'SDBENZDPN',\n",
    "     'TRIAPDAPYU':'SDTRZLM','TEMAPDAPYU':'SDTMZPM','BARBITAPYU':'SDBARBTS', \n",
    "     'SEDOTANYR2':'SDOTHYR','COCFLAG':'COCNEVR','COCYR':'COCNYR','COCMON':'COCNMO',\n",
    "     'CRKFLAG':'CRACKEVR','CRKYR':'CRACKYR','AMMEPDAPYU':'AMPHTMNYR', \n",
    "     'METHAMFLAG':'METHEVR','METHAMYR':'METHYR','METHAMMON':'METHMO',\n",
    "     'HALLUCFLAG':'HLCNEVR','LSDFLAG':'LSDEVR','ECSTMOFLAG':'MDMAEVR',\n",
    "     'DAMTFXFLAG':'DMTEVR','KETMINFLAG':'KETMNEVR', \n",
    "     'TXYRRESOV':'TRTRHBOVN','TXYROUTPT':'TRTRHBOUT','TXYRMHCOP':'TRTMHCTR',\n",
    "     'TXYREMRGN1':'TRTERYR','TXCURRENT1':'TRTCURRCV','TXLTPNRL':'TRTCURPRL',\n",
    "     'TXYRNOSPIL':'TRTGAPYR','AUOPTYR1':'MHTRTOYR','MHLMNT3':'MHTRTCLYR',\n",
    "     'MHLTHER3':'MHTRTTHPY','MHLDOC3':'MHTRTDRYR', 'MHLCLNC3':'MHTRTMDOUT',\n",
    "     'MHLDTMT3':'MHTRTHPPGM','AUINPYR1':'MHTRTHSPON','AUALTYR1':'MHTRTALT'})\n",
    "     \n",
    "df.shape"
   ]
  },
  {
   "cell_type": "markdown",
   "metadata": {},
   "source": [
    "## Step 5: Suset Data Frame with updated features"
   ]
  },
  {
   "cell_type": "code",
   "execution_count": null,
   "metadata": {},
   "outputs": [],
   "source": [
    "df1 = df[['QID','AGECAT','SEX', 'MARRIED', 'EDUCAT', \n",
    "     'EMPLOY18','CTYMETRO','HEALTH2','STDPYR','HEPEVR','CANCEVR','HOSPYR', \n",
    "     'DEPMELT','DEPMEYR','DEPMWKS','DEPWMOS','EMODSWKS','EMOPGOUT',\n",
    "     'EMOPSOC','EMOPWRK','SUICTHT','SUICPLN','SUICATT',\n",
    "     'PRLUNDR','PRLUNDR30','PRLGRTYR','PRLMISEVR','PRLMISYR',\n",
    "     'PRLMISMO','PRLOXYMSYR','PRLDEPYR','PRLABSRY','PRLHIGH',\n",
    "     'HYDRCDYR','OXYCDPRYR','OXYCTNYR','TRMADLYR','MORPHPRYR',\n",
    "     'FENTNYLYR','BUPRNRPHN','OXYMORPHN','DEMEROL','HYDRMRPHN',\n",
    "     'HEROINEVR','HEROINYR','HEROINMO','HEROINAB','METHADONE','HEROINFQY',\n",
    "     'TRQBENZODZ','TRQALPRZM','TRQLRZPM','TRQCLNZPM','TRQDIAZPM',\n",
    "     'SDBENZDPN','SDTRZLM','SDTMZPM','SDBARBTS','SDOTHYR',\n",
    "     'COCNEVR','COCNYR','COCNMO','CRACKEVR','CRACKYR',\n",
    "     'AMPHTMNYR','METHEVR','METHYR','METHMO',\n",
    "     'HLCNEVR','LSDEVR','MDMAEVR','DMTEVR','KETMNEVR', \n",
    "     'TRTRHBOVN','TRTRHBOUT','TRTMHCTR','TRTERYR','TRTCURRCV',\n",
    "     'TRTCURPRL','TRTGAPYR','MHTRTOYR','MHTRTCLYR','MHTRTTHPY',\n",
    "     'MHTRTDRYR','MHTRTMDOUT','MHTRTHPPGM','MHTRTHSPON','MHTRTALT']]\n",
    "df1.shape"
   ]
  },
  {
   "cell_type": "code",
   "execution_count": null,
   "metadata": {},
   "outputs": [],
   "source": [
    "df1.head()"
   ]
  },
  {
   "cell_type": "markdown",
   "metadata": {},
   "source": [
    "## Step 6: Export data frame to CSV file"
   ]
  },
  {
   "cell_type": "code",
   "execution_count": null,
   "metadata": {
    "collapsed": true
   },
   "outputs": [],
   "source": [
    "df1.to_csv('nsduh-dataset.csv', sep=',', encoding='utf-8')"
   ]
  }
 ],
 "metadata": {
  "kernelspec": {
   "display_name": "Python 3",
   "language": "python",
   "name": "python3"
  },
  "language_info": {
   "codemirror_mode": {
    "name": "ipython",
    "version": 3
   },
   "file_extension": ".py",
   "mimetype": "text/x-python",
   "name": "python",
   "nbconvert_exporter": "python",
   "pygments_lexer": "ipython3",
   "version": "3.6.1"
  }
 },
 "nbformat": 4,
 "nbformat_minor": 2
}
