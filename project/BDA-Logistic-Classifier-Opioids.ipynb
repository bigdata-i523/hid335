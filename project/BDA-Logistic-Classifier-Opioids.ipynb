{
 "cells": [
  {
   "cell_type": "markdown",
   "metadata": {},
   "source": [
    "# Linear Models for Classification\n",
    "* `Introduction to Machine Learning` by Andreas Mueller and Sarah Guido\n",
    "* Chapter 2: Supervised Learning \n",
    "\n",
    "### Algorithms for Linear Models differ in following two ways:\n",
    "* Way they measure how well a particular combination of coefficients and intercepts fits training data\n",
    "* If and what kind of regularization is used\n",
    "\n",
    "# Logistic Classification of Opioid Pain Medication\n",
    "* Decision boundary is a linear function of the input\n",
    "* Binary linear classifier separates two classes using a line, plane, or hyperplane\n",
    "* Implemented in `linear_model.logisticRegression`\n",
    "\n",
    "### Import packages\n",
    "* Load forge dataset and assign variables"
   ]
  },
  {
   "cell_type": "code",
   "execution_count": 1,
   "metadata": {
    "collapsed": true
   },
   "outputs": [],
   "source": [
    "import sklearn\n",
    "import mglearn\n",
    "\n",
    "import numpy as np\n",
    "import pandas as pd\n",
    "\n",
    "import matplotlib.pyplot as plt\n",
    "%matplotlib inline\n",
    "\n",
    "from sklearn.linear_model import LogisticRegression\n",
    "from sklearn.svm import LinearSVC"
   ]
  },
  {
   "cell_type": "markdown",
   "metadata": {},
   "source": [
    "### Figure 1. Decision boundaries of linear SVM and logistic regresison on forge data with default parameters\n",
    "* Any new data point above decision boundary classified as 1, any points below classified as 2\n",
    "* Both models apply L2 regularization by default, same way as Ridge regression\n",
    "* Foth both models C is tradeoff parameter that determines the strength of regularization\n",
    "\n",
    "## Regularization Parameter C\n",
    "#### High values of C: \n",
    "* Correspond to less regularization, models will fit training set as best as possible\n",
    "* Stresses importance of each individual data point to be classified correctly\n",
    "\n",
    "#### Low values of C: \n",
    "* Models put more emphasis on finding coefficient vector (w) close to zero\n",
    "* Cause models to try to adjust to the 'majority' of data points"
   ]
  },
  {
   "cell_type": "code",
   "execution_count": 2,
   "metadata": {},
   "outputs": [
    {
     "data": {
      "image/png": "[encoded data removed]",
      "text/plain": [
       "<matplotlib.figure.Figure at 0x11b892278>"
      ]
     },
     "metadata": {},
     "output_type": "display_data"
    }
   ],
   "source": [
    "mglearn.plots.plot_linear_svc_regularization()"
   ]
  },
  {
   "cell_type": "markdown",
   "metadata": {},
   "source": [
    "### Figure 2. \n",
    "* Left panel: Small values of C gives lots of regularization, two misclassified points\n",
    "* Middle panel: Moderate C, model focuses on misclassified points, tilts decision boundary \n",
    "#### (Right panel) for High C:\n",
    "    * Model tries to correctly classify all points correctly with a straight line\n",
    "    * But may not capture overall layout of classes well. Model is likely OVERFITTING! \n",
    "    * Decision bounday is titled a lot; all points in class 0 are correctly classified."
   ]
  },
  {
   "cell_type": "markdown",
   "metadata": {},
   "source": [
    "## Linear Models of Classification\n",
    "### Low Dimensional spaces\n",
    "* Linear model for classification may seems restrictive in low-dimensional space\n",
    "* Only allowing for decision boundaries that are straight lines or planes\n",
    "\n",
    "### High Dimensional spaces\n",
    "* Linear models for classification become very powerful\n",
    "* Guarding against OVERFITTING becomes important when considering many features\n",
    "\n",
    "## Classify HEROINEVR from Opioid features\n",
    "* Load WI Breast Cancer study data\n",
    "* Show features\n",
    "* Visualize dataset"
   ]
  },
  {
   "cell_type": "code",
   "execution_count": 3,
   "metadata": {
    "collapsed": true
   },
   "outputs": [],
   "source": [
    "file = pd.read_csv('project-data.csv')\n",
    "opioids = pd.DataFrame(file)\n",
    "opioids.drop(opioids.columns[[0,1]], axis=1, inplace=True)\n",
    "del opioids['SUICATT']"
   ]
  },
  {
   "cell_type": "code",
   "execution_count": 4,
   "metadata": {},
   "outputs": [
    {
     "name": "stdout",
     "output_type": "stream",
     "text": [
      "Index(['AGECAT', 'SEX', 'MARRIED', 'EDUCAT', 'EMPLOY18', 'CTYMETRO', 'HEALTH',\n",
      "       'MENTHLTH', 'PRLMISEVR', 'PRLMISAB', 'PRLANY', 'HEROINEVR', 'HEROINUSE',\n",
      "       'HEROINFQY', 'TRQLZRS', 'SEDATVS', 'COCAINE', 'AMPHETMN', 'TRTMENT',\n",
      "       'MHTRTMT'],\n",
      "      dtype='object')\n"
     ]
    }
   ],
   "source": [
    "print(opioids.keys())"
   ]
  },
  {
   "cell_type": "code",
   "execution_count": 5,
   "metadata": {
    "scrolled": true
   },
   "outputs": [
    {
     "data": {
      "text/html": [
       "<div>\n",
       "<style>\n",
       "    .dataframe thead tr:only-child th {\n",
       "        text-align: right;\n",
       "    }\n",
       "\n",
       "    .dataframe thead th {\n",
       "        text-align: left;\n",
       "    }\n",
       "\n",
       "    .dataframe tbody tr th {\n",
       "        vertical-align: top;\n",
       "    }\n",
       "</style>\n",
       "<table border=\"1\" class=\"dataframe\">\n",
       "  <thead>\n",
       "    <tr style=\"text-align: right;\">\n",
       "      <th></th>\n",
       "      <th>AGECAT</th>\n",
       "      <th>SEX</th>\n",
       "      <th>MARRIED</th>\n",
       "      <th>EDUCAT</th>\n",
       "      <th>EMPLOY18</th>\n",
       "      <th>CTYMETRO</th>\n",
       "      <th>HEALTH</th>\n",
       "      <th>MENTHLTH</th>\n",
       "      <th>PRLMISEVR</th>\n",
       "      <th>PRLMISAB</th>\n",
       "      <th>PRLANY</th>\n",
       "      <th>HEROINEVR</th>\n",
       "      <th>HEROINUSE</th>\n",
       "      <th>HEROINFQY</th>\n",
       "      <th>TRQLZRS</th>\n",
       "      <th>SEDATVS</th>\n",
       "      <th>COCAINE</th>\n",
       "      <th>AMPHETMN</th>\n",
       "      <th>TRTMENT</th>\n",
       "      <th>MHTRTMT</th>\n",
       "    </tr>\n",
       "  </thead>\n",
       "  <tbody>\n",
       "    <tr>\n",
       "      <th>count</th>\n",
       "      <td>57146.000000</td>\n",
       "      <td>57146.000000</td>\n",
       "      <td>57146.000000</td>\n",
       "      <td>57146.000000</td>\n",
       "      <td>57146.000000</td>\n",
       "      <td>57146.000000</td>\n",
       "      <td>57146.000000</td>\n",
       "      <td>57146.000000</td>\n",
       "      <td>57146.000000</td>\n",
       "      <td>57146.00000</td>\n",
       "      <td>57146.000000</td>\n",
       "      <td>57146.000000</td>\n",
       "      <td>57146.000000</td>\n",
       "      <td>57146.000000</td>\n",
       "      <td>57146.00000</td>\n",
       "      <td>57146.000000</td>\n",
       "      <td>57146.000000</td>\n",
       "      <td>57146.000000</td>\n",
       "      <td>57146.000000</td>\n",
       "      <td>57146.000000</td>\n",
       "    </tr>\n",
       "    <tr>\n",
       "      <th>mean</th>\n",
       "      <td>2.771743</td>\n",
       "      <td>0.532146</td>\n",
       "      <td>1.976219</td>\n",
       "      <td>3.052270</td>\n",
       "      <td>0.898786</td>\n",
       "      <td>2.236325</td>\n",
       "      <td>2.280020</td>\n",
       "      <td>0.176950</td>\n",
       "      <td>0.110996</td>\n",
       "      <td>0.58263</td>\n",
       "      <td>0.441396</td>\n",
       "      <td>0.016729</td>\n",
       "      <td>0.030658</td>\n",
       "      <td>0.400938</td>\n",
       "      <td>0.22656</td>\n",
       "      <td>0.050940</td>\n",
       "      <td>0.177510</td>\n",
       "      <td>0.124348</td>\n",
       "      <td>0.035873</td>\n",
       "      <td>0.062367</td>\n",
       "    </tr>\n",
       "    <tr>\n",
       "      <th>std</th>\n",
       "      <td>1.400627</td>\n",
       "      <td>0.498970</td>\n",
       "      <td>1.487020</td>\n",
       "      <td>1.442398</td>\n",
       "      <td>0.931240</td>\n",
       "      <td>0.772090</td>\n",
       "      <td>1.004523</td>\n",
       "      <td>0.520213</td>\n",
       "      <td>0.314130</td>\n",
       "      <td>2.00942</td>\n",
       "      <td>0.982765</td>\n",
       "      <td>0.128256</td>\n",
       "      <td>0.260850</td>\n",
       "      <td>9.778014</td>\n",
       "      <td>0.72891</td>\n",
       "      <td>0.325398</td>\n",
       "      <td>0.555303</td>\n",
       "      <td>0.396025</td>\n",
       "      <td>0.185975</td>\n",
       "      <td>0.278608</td>\n",
       "    </tr>\n",
       "    <tr>\n",
       "      <th>min</th>\n",
       "      <td>1.000000</td>\n",
       "      <td>0.000000</td>\n",
       "      <td>0.000000</td>\n",
       "      <td>1.000000</td>\n",
       "      <td>0.000000</td>\n",
       "      <td>1.000000</td>\n",
       "      <td>0.000000</td>\n",
       "      <td>0.000000</td>\n",
       "      <td>0.000000</td>\n",
       "      <td>0.00000</td>\n",
       "      <td>0.000000</td>\n",
       "      <td>0.000000</td>\n",
       "      <td>0.000000</td>\n",
       "      <td>0.000000</td>\n",
       "      <td>0.00000</td>\n",
       "      <td>0.000000</td>\n",
       "      <td>0.000000</td>\n",
       "      <td>0.000000</td>\n",
       "      <td>0.000000</td>\n",
       "      <td>0.000000</td>\n",
       "    </tr>\n",
       "    <tr>\n",
       "      <th>25%</th>\n",
       "      <td>2.000000</td>\n",
       "      <td>0.000000</td>\n",
       "      <td>1.000000</td>\n",
       "      <td>2.000000</td>\n",
       "      <td>0.000000</td>\n",
       "      <td>2.000000</td>\n",
       "      <td>2.000000</td>\n",
       "      <td>0.000000</td>\n",
       "      <td>0.000000</td>\n",
       "      <td>0.00000</td>\n",
       "      <td>0.000000</td>\n",
       "      <td>0.000000</td>\n",
       "      <td>0.000000</td>\n",
       "      <td>0.000000</td>\n",
       "      <td>0.00000</td>\n",
       "      <td>0.000000</td>\n",
       "      <td>0.000000</td>\n",
       "      <td>0.000000</td>\n",
       "      <td>0.000000</td>\n",
       "      <td>0.000000</td>\n",
       "    </tr>\n",
       "    <tr>\n",
       "      <th>50%</th>\n",
       "      <td>3.000000</td>\n",
       "      <td>1.000000</td>\n",
       "      <td>1.000000</td>\n",
       "      <td>3.000000</td>\n",
       "      <td>1.000000</td>\n",
       "      <td>2.000000</td>\n",
       "      <td>2.000000</td>\n",
       "      <td>0.000000</td>\n",
       "      <td>0.000000</td>\n",
       "      <td>0.00000</td>\n",
       "      <td>0.000000</td>\n",
       "      <td>0.000000</td>\n",
       "      <td>0.000000</td>\n",
       "      <td>0.000000</td>\n",
       "      <td>0.00000</td>\n",
       "      <td>0.000000</td>\n",
       "      <td>0.000000</td>\n",
       "      <td>0.000000</td>\n",
       "      <td>0.000000</td>\n",
       "      <td>0.000000</td>\n",
       "    </tr>\n",
       "    <tr>\n",
       "      <th>75%</th>\n",
       "      <td>4.000000</td>\n",
       "      <td>1.000000</td>\n",
       "      <td>4.000000</td>\n",
       "      <td>4.000000</td>\n",
       "      <td>2.000000</td>\n",
       "      <td>3.000000</td>\n",
       "      <td>3.000000</td>\n",
       "      <td>0.000000</td>\n",
       "      <td>0.000000</td>\n",
       "      <td>0.00000</td>\n",
       "      <td>0.000000</td>\n",
       "      <td>0.000000</td>\n",
       "      <td>0.000000</td>\n",
       "      <td>0.000000</td>\n",
       "      <td>0.00000</td>\n",
       "      <td>0.000000</td>\n",
       "      <td>0.000000</td>\n",
       "      <td>0.000000</td>\n",
       "      <td>0.000000</td>\n",
       "      <td>0.000000</td>\n",
       "    </tr>\n",
       "    <tr>\n",
       "      <th>max</th>\n",
       "      <td>5.000000</td>\n",
       "      <td>1.000000</td>\n",
       "      <td>4.000000</td>\n",
       "      <td>5.000000</td>\n",
       "      <td>2.000000</td>\n",
       "      <td>3.000000</td>\n",
       "      <td>5.000000</td>\n",
       "      <td>2.000000</td>\n",
       "      <td>1.000000</td>\n",
       "      <td>17.00000</td>\n",
       "      <td>10.000000</td>\n",
       "      <td>1.000000</td>\n",
       "      <td>5.000000</td>\n",
       "      <td>365.000000</td>\n",
       "      <td>5.00000</td>\n",
       "      <td>5.000000</td>\n",
       "      <td>5.000000</td>\n",
       "      <td>4.000000</td>\n",
       "      <td>1.000000</td>\n",
       "      <td>5.000000</td>\n",
       "    </tr>\n",
       "  </tbody>\n",
       "</table>\n",
       "</div>"
      ],
      "text/plain": [
       "             AGECAT           SEX       MARRIED        EDUCAT      EMPLOY18  \\\n",
       "count  57146.000000  57146.000000  57146.000000  57146.000000  57146.000000   \n",
       "mean       2.771743      0.532146      1.976219      3.052270      0.898786   \n",
       "std        1.400627      0.498970      1.487020      1.442398      0.931240   \n",
       "min        1.000000      0.000000      0.000000      1.000000      0.000000   \n",
       "25%        2.000000      0.000000      1.000000      2.000000      0.000000   \n",
       "50%        3.000000      1.000000      1.000000      3.000000      1.000000   \n",
       "75%        4.000000      1.000000      4.000000      4.000000      2.000000   \n",
       "max        5.000000      1.000000      4.000000      5.000000      2.000000   \n",
       "\n",
       "           CTYMETRO        HEALTH      MENTHLTH     PRLMISEVR     PRLMISAB  \\\n",
       "count  57146.000000  57146.000000  57146.000000  57146.000000  57146.00000   \n",
       "mean       2.236325      2.280020      0.176950      0.110996      0.58263   \n",
       "std        0.772090      1.004523      0.520213      0.314130      2.00942   \n",
       "min        1.000000      0.000000      0.000000      0.000000      0.00000   \n",
       "25%        2.000000      2.000000      0.000000      0.000000      0.00000   \n",
       "50%        2.000000      2.000000      0.000000      0.000000      0.00000   \n",
       "75%        3.000000      3.000000      0.000000      0.000000      0.00000   \n",
       "max        3.000000      5.000000      2.000000      1.000000     17.00000   \n",
       "\n",
       "             PRLANY     HEROINEVR     HEROINUSE     HEROINFQY      TRQLZRS  \\\n",
       "count  57146.000000  57146.000000  57146.000000  57146.000000  57146.00000   \n",
       "mean       0.441396      0.016729      0.030658      0.400938      0.22656   \n",
       "std        0.982765      0.128256      0.260850      9.778014      0.72891   \n",
       "min        0.000000      0.000000      0.000000      0.000000      0.00000   \n",
       "25%        0.000000      0.000000      0.000000      0.000000      0.00000   \n",
       "50%        0.000000      0.000000      0.000000      0.000000      0.00000   \n",
       "75%        0.000000      0.000000      0.000000      0.000000      0.00000   \n",
       "max       10.000000      1.000000      5.000000    365.000000      5.00000   \n",
       "\n",
       "            SEDATVS       COCAINE      AMPHETMN       TRTMENT       MHTRTMT  \n",
       "count  57146.000000  57146.000000  57146.000000  57146.000000  57146.000000  \n",
       "mean       0.050940      0.177510      0.124348      0.035873      0.062367  \n",
       "std        0.325398      0.555303      0.396025      0.185975      0.278608  \n",
       "min        0.000000      0.000000      0.000000      0.000000      0.000000  \n",
       "25%        0.000000      0.000000      0.000000      0.000000      0.000000  \n",
       "50%        0.000000      0.000000      0.000000      0.000000      0.000000  \n",
       "75%        0.000000      0.000000      0.000000      0.000000      0.000000  \n",
       "max        5.000000      5.000000      4.000000      1.000000      5.000000  "
      ]
     },
     "execution_count": 5,
     "metadata": {},
     "output_type": "execute_result"
    }
   ],
   "source": [
    "opioids.describe()"
   ]
  },
  {
   "cell_type": "code",
   "execution_count": 6,
   "metadata": {},
   "outputs": [
    {
     "data": {
      "text/plain": [
       "0    56190\n",
       "1      956\n",
       "Name: HEROINEVR, dtype: int64"
      ]
     },
     "execution_count": 6,
     "metadata": {},
     "output_type": "execute_result"
    }
   ],
   "source": [
    "opioids['HEROINEVR'].value_counts()"
   ]
  },
  {
   "cell_type": "code",
   "execution_count": 7,
   "metadata": {},
   "outputs": [
    {
     "data": {
      "text/plain": [
       "0    50803\n",
       "1     6343\n",
       "Name: PRLMISEVR, dtype: int64"
      ]
     },
     "execution_count": 7,
     "metadata": {},
     "output_type": "execute_result"
    }
   ],
   "source": [
    "opioids['PRLMISEVR'].value_counts()"
   ]
  },
  {
   "cell_type": "code",
   "execution_count": 8,
   "metadata": {
    "collapsed": true
   },
   "outputs": [],
   "source": [
    "features = ['AGECAT', 'SEX', 'MARRIED', 'EDUCAT','EMPLOY18',\n",
    "            'CTYMETRO', 'HEALTH','MENTHLTH', 'HEROINEVR', \n",
    "            'HEROINUSE','HEROINFQY', 'TRQLZRS','SEDATVS', \n",
    "            'COCAINE', 'AMPHETMN', 'TRTMENT','MHTRTMT']"
   ]
  },
  {
   "cell_type": "code",
   "execution_count": 9,
   "metadata": {},
   "outputs": [
    {
     "data": {
      "text/plain": [
       "pandas.core.frame.DataFrame"
      ]
     },
     "execution_count": 9,
     "metadata": {},
     "output_type": "execute_result"
    }
   ],
   "source": [
    "type(opioids)"
   ]
  },
  {
   "cell_type": "code",
   "execution_count": 10,
   "metadata": {},
   "outputs": [
    {
     "data": {
      "text/plain": [
       "(57146, 20)"
      ]
     },
     "execution_count": 10,
     "metadata": {},
     "output_type": "execute_result"
    }
   ],
   "source": [
    "opioids.shape"
   ]
  },
  {
   "cell_type": "code",
   "execution_count": 11,
   "metadata": {
    "collapsed": true,
    "scrolled": true
   },
   "outputs": [],
   "source": [
    "opioids.data = pd.DataFrame(opioids, columns=['AGECAT', 'SEX', 'MARRIED', 'EDUCAT','EMPLOY18',\n",
    "                                              'CTYMETRO', 'HEALTH','MENTHLTH', 'HEROINEVR', \n",
    "                                              'HEROINUSE','HEROINFQY', 'TRQLZRS','SEDATVS', \n",
    "                                              'COCAINE', 'AMPHETMN', 'TRTMENT','MHTRTMT'])\n",
    "opioids.target = opioids['PRLMISEVR']"
   ]
  },
  {
   "cell_type": "code",
   "execution_count": 12,
   "metadata": {
    "scrolled": true
   },
   "outputs": [
    {
     "data": {
      "text/html": [
       "<div>\n",
       "<style>\n",
       "    .dataframe thead tr:only-child th {\n",
       "        text-align: right;\n",
       "    }\n",
       "\n",
       "    .dataframe thead th {\n",
       "        text-align: left;\n",
       "    }\n",
       "\n",
       "    .dataframe tbody tr th {\n",
       "        vertical-align: top;\n",
       "    }\n",
       "</style>\n",
       "<table border=\"1\" class=\"dataframe\">\n",
       "  <thead>\n",
       "    <tr style=\"text-align: right;\">\n",
       "      <th></th>\n",
       "      <th>AGECAT</th>\n",
       "      <th>SEX</th>\n",
       "      <th>MARRIED</th>\n",
       "      <th>EDUCAT</th>\n",
       "      <th>EMPLOY18</th>\n",
       "      <th>CTYMETRO</th>\n",
       "      <th>HEALTH</th>\n",
       "      <th>MENTHLTH</th>\n",
       "      <th>HEROINEVR</th>\n",
       "      <th>HEROINUSE</th>\n",
       "      <th>HEROINFQY</th>\n",
       "      <th>TRQLZRS</th>\n",
       "      <th>SEDATVS</th>\n",
       "      <th>COCAINE</th>\n",
       "      <th>AMPHETMN</th>\n",
       "      <th>TRTMENT</th>\n",
       "      <th>MHTRTMT</th>\n",
       "    </tr>\n",
       "  </thead>\n",
       "  <tbody>\n",
       "    <tr>\n",
       "      <th>0</th>\n",
       "      <td>1</td>\n",
       "      <td>0</td>\n",
       "      <td>1.0</td>\n",
       "      <td>1</td>\n",
       "      <td>0.0</td>\n",
       "      <td>1</td>\n",
       "      <td>2.0</td>\n",
       "      <td>0.0</td>\n",
       "      <td>0</td>\n",
       "      <td>0</td>\n",
       "      <td>0.0</td>\n",
       "      <td>0</td>\n",
       "      <td>0</td>\n",
       "      <td>0</td>\n",
       "      <td>0</td>\n",
       "      <td>0.0</td>\n",
       "      <td>0.0</td>\n",
       "    </tr>\n",
       "    <tr>\n",
       "      <th>1</th>\n",
       "      <td>4</td>\n",
       "      <td>0</td>\n",
       "      <td>2.0</td>\n",
       "      <td>3</td>\n",
       "      <td>2.0</td>\n",
       "      <td>2</td>\n",
       "      <td>1.0</td>\n",
       "      <td>0.0</td>\n",
       "      <td>0</td>\n",
       "      <td>0</td>\n",
       "      <td>0.0</td>\n",
       "      <td>0</td>\n",
       "      <td>0</td>\n",
       "      <td>2</td>\n",
       "      <td>0</td>\n",
       "      <td>1.0</td>\n",
       "      <td>0.0</td>\n",
       "    </tr>\n",
       "    <tr>\n",
       "      <th>2</th>\n",
       "      <td>3</td>\n",
       "      <td>1</td>\n",
       "      <td>1.0</td>\n",
       "      <td>5</td>\n",
       "      <td>0.0</td>\n",
       "      <td>1</td>\n",
       "      <td>2.0</td>\n",
       "      <td>0.0</td>\n",
       "      <td>0</td>\n",
       "      <td>0</td>\n",
       "      <td>0.0</td>\n",
       "      <td>2</td>\n",
       "      <td>0</td>\n",
       "      <td>0</td>\n",
       "      <td>0</td>\n",
       "      <td>0.0</td>\n",
       "      <td>1.0</td>\n",
       "    </tr>\n",
       "    <tr>\n",
       "      <th>3</th>\n",
       "      <td>1</td>\n",
       "      <td>1</td>\n",
       "      <td>0.0</td>\n",
       "      <td>1</td>\n",
       "      <td>0.0</td>\n",
       "      <td>2</td>\n",
       "      <td>3.0</td>\n",
       "      <td>0.0</td>\n",
       "      <td>0</td>\n",
       "      <td>0</td>\n",
       "      <td>0.0</td>\n",
       "      <td>0</td>\n",
       "      <td>0</td>\n",
       "      <td>0</td>\n",
       "      <td>0</td>\n",
       "      <td>0.0</td>\n",
       "      <td>0.0</td>\n",
       "    </tr>\n",
       "    <tr>\n",
       "      <th>4</th>\n",
       "      <td>2</td>\n",
       "      <td>1</td>\n",
       "      <td>4.0</td>\n",
       "      <td>4</td>\n",
       "      <td>0.0</td>\n",
       "      <td>1</td>\n",
       "      <td>4.0</td>\n",
       "      <td>0.0</td>\n",
       "      <td>0</td>\n",
       "      <td>0</td>\n",
       "      <td>0.0</td>\n",
       "      <td>0</td>\n",
       "      <td>0</td>\n",
       "      <td>0</td>\n",
       "      <td>0</td>\n",
       "      <td>0.0</td>\n",
       "      <td>1.0</td>\n",
       "    </tr>\n",
       "  </tbody>\n",
       "</table>\n",
       "</div>"
      ],
      "text/plain": [
       "   AGECAT  SEX  MARRIED  EDUCAT  EMPLOY18  CTYMETRO  HEALTH  MENTHLTH  \\\n",
       "0       1    0      1.0       1       0.0         1     2.0       0.0   \n",
       "1       4    0      2.0       3       2.0         2     1.0       0.0   \n",
       "2       3    1      1.0       5       0.0         1     2.0       0.0   \n",
       "3       1    1      0.0       1       0.0         2     3.0       0.0   \n",
       "4       2    1      4.0       4       0.0         1     4.0       0.0   \n",
       "\n",
       "   HEROINEVR  HEROINUSE  HEROINFQY  TRQLZRS  SEDATVS  COCAINE  AMPHETMN  \\\n",
       "0          0          0        0.0        0        0        0         0   \n",
       "1          0          0        0.0        0        0        2         0   \n",
       "2          0          0        0.0        2        0        0         0   \n",
       "3          0          0        0.0        0        0        0         0   \n",
       "4          0          0        0.0        0        0        0         0   \n",
       "\n",
       "   TRTMENT  MHTRTMT  \n",
       "0      0.0      0.0  \n",
       "1      1.0      0.0  \n",
       "2      0.0      1.0  \n",
       "3      0.0      0.0  \n",
       "4      0.0      1.0  "
      ]
     },
     "execution_count": 12,
     "metadata": {},
     "output_type": "execute_result"
    }
   ],
   "source": [
    "opioids.data.head()"
   ]
  },
  {
   "cell_type": "markdown",
   "metadata": {},
   "source": [
    "## Logistic Regression: Cancer Data\n",
    "* Split data into TRAIN and TEST sets\n",
    "* Fit the model on Training data\n",
    "* Evaluate model on Text data"
   ]
  },
  {
   "cell_type": "code",
   "execution_count": 13,
   "metadata": {
    "collapsed": true
   },
   "outputs": [],
   "source": [
    "from sklearn.model_selection import train_test_split\n",
    "\n",
    "X_train, X_test, y_train, y_test = train_test_split(\n",
    "    opioids.data, opioids.target, stratify=opioids.target, random_state=42)"
   ]
  },
  {
   "cell_type": "code",
   "execution_count": 14,
   "metadata": {
    "collapsed": true
   },
   "outputs": [],
   "source": [
    "logreg = LogisticRegression().fit(X_train, y_train)"
   ]
  },
  {
   "cell_type": "code",
   "execution_count": 15,
   "metadata": {},
   "outputs": [
    {
     "name": "stdout",
     "output_type": "stream",
     "text": [
      "Training set score: 0.901\n",
      "Test set score: 0.903\n"
     ]
    }
   ],
   "source": [
    "print(\"Training set score: {:.3f}\".format(logreg.score(X_train, y_train)))\n",
    "print(\"Test set score: {:.3f}\".format(logreg.score(X_test, y_test)))"
   ]
  },
  {
   "cell_type": "markdown",
   "metadata": {},
   "source": [
    "### Regularization Parameter settings \n",
    "* Default setting `C=1` provides good performance for train and test sets\n",
    "* Very likely UNDERFITTING \n",
    "\n",
    "### Use higher value of C to fit more 'flexible' model\n",
    "* C=100 gives higher training set accuracy and slightly higher Test set accuracy\n",
    "* More complex model (flexible) performs better"
   ]
  },
  {
   "cell_type": "code",
   "execution_count": 16,
   "metadata": {},
   "outputs": [
    {
     "name": "stdout",
     "output_type": "stream",
     "text": [
      "Training set score: 0.901\n",
      "Test set score: 0.903\n"
     ]
    }
   ],
   "source": [
    "logreg100 = LogisticRegression(C=100).fit(X_train, y_train)\n",
    "print(\"Training set score: {:.3f}\".format(logreg100.score(X_train, y_train)))\n",
    "print(\"Test set score: {:.3f}\".format(logreg100.score(X_test, y_test)))"
   ]
  },
  {
   "cell_type": "markdown",
   "metadata": {},
   "source": [
    "### Use lower value of C to fit more 'regularized' model\n",
    "* Setting C=0.01 leads model to try to adjust to 'majority' of data points\n",
    "* Decreased model accuracy for both training and Test sets"
   ]
  },
  {
   "cell_type": "code",
   "execution_count": 17,
   "metadata": {},
   "outputs": [
    {
     "name": "stdout",
     "output_type": "stream",
     "text": [
      "Training set score: 0.901\n",
      "Test set score: 0.904\n"
     ]
    }
   ],
   "source": [
    "logreg001 = LogisticRegression(C=0.01).fit(X_train, y_train)\n",
    "print(\"Training set score: {:.3f}\".format(logreg001.score(X_train, y_train)))\n",
    "print(\"Test set score: {:.3f}\".format(logreg001.score(X_test, y_test)))"
   ]
  },
  {
   "cell_type": "markdown",
   "metadata": {},
   "source": [
    "## Plot Coefficients of Logistic Regression for different values of C\n",
    "* By default `LogisticRegression` applies L2 regularization similar to `Ridge` regression\n",
    "* Stronger regularization pushes coefficients closer to zero\n",
    "* Parameter values can influence values of Coefficients"
   ]
  },
  {
   "cell_type": "code",
   "execution_count": 18,
   "metadata": {},
   "outputs": [
    {
     "data": {
      "text/plain": [
       "<matplotlib.legend.Legend at 0x11e922160>"
      ]
     },
     "execution_count": 18,
     "metadata": {},
     "output_type": "execute_result"
    },
    {
     "data": {
      "image/png": "[encoded data removed]",
      "text/plain": [
       "<matplotlib.figure.Figure at 0x11e178dd8>"
      ]
     },
     "metadata": {},
     "output_type": "display_data"
    }
   ],
   "source": [
    "plt.plot(logreg.coef_.T, 'o', label=\"C=1\")\n",
    "plt.plot(logreg100.coef_.T, '^', label=\"C=100\")\n",
    "plt.plot(logreg001.coef_.T, 'v', label=\"C=0.01\")\n",
    "\n",
    "plt.xticks(range(opioids.data.shape[1]), features, rotation=90)\n",
    "plt.hlines(0,0, opioids.data.shape[1])\n",
    "plt.ylim(-2, 2)\n",
    "\n",
    "plt.xlabel(\"Coefficient Index\")\n",
    "plt.xlabel(\"Coefficient Magnitude\")\n",
    "plt.legend()"
   ]
  },
  {
   "cell_type": "markdown",
   "metadata": {},
   "source": [
    "## Creating More Interpretable Model: L1 Regularization (Lasso)\n",
    "* `L1` regularization (Lasso) limits values of most coefficients to zero\n",
    "*  Model is limited to using only a few features"
   ]
  },
  {
   "cell_type": "code",
   "execution_count": 19,
   "metadata": {},
   "outputs": [
    {
     "name": "stdout",
     "output_type": "stream",
     "text": [
      "Training accuracy of L1 logreg with C=0.010: 0.90\n",
      "Test accuracy of L1 logreg with C=0.010: 0.90\n",
      "Training accuracy of L1 logreg with C=1.000: 0.90\n",
      "Test accuracy of L1 logreg with C=1.000: 0.90\n",
      "Training accuracy of L1 logreg with C=100.000: 0.90\n",
      "Test accuracy of L1 logreg with C=100.000: 0.90\n"
     ]
    },
    {
     "data": {
      "text/plain": [
       "<matplotlib.legend.Legend at 0x122005d30>"
      ]
     },
     "execution_count": 19,
     "metadata": {},
     "output_type": "execute_result"
    },
    {
     "data": {
      "image/png": "[encoded data removed]",
      "text/plain": [
       "<matplotlib.figure.Figure at 0x121d987f0>"
      ]
     },
     "metadata": {},
     "output_type": "display_data"
    }
   ],
   "source": [
    "for C, marker in zip([0.01, 1, 100], ['v', 'o', '^']):\n",
    "    lr_l1 = LogisticRegression(C=C, penalty=\"l1\").fit(X_train, y_train)\n",
    "    print(\"Training accuracy of L1 logreg with C={:.3f}: {:.2f}\".format(\n",
    "        C, lr_l1.score(X_train, y_train)))\n",
    "    print(\"Test accuracy of L1 logreg with C={:.3f}: {:.2f}\".format(\n",
    "        C, lr_l1.score(X_test, y_test)))\n",
    "    plt.plot(lr_l1.coef_.T, marker, label=\"C={:.3f}\".format(C))\n",
    "    \n",
    "plt.xticks(range(opioids.data.shape[1]), features, rotation=90)\n",
    "plt.hlines(0,0, opioids.data.shape[1])\n",
    "plt.xlabel(\"Coefficient Index\")\n",
    "plt.xlabel(\"Coefficient Magnitude\")\n",
    "\n",
    "plt.ylim(-2, 2)\n",
    "plt.legend()"
   ]
  },
  {
   "cell_type": "markdown",
   "metadata": {},
   "source": [
    "## Penalty Parameter (L) and Linear Classification Models\n",
    "* Main difference between linear models for classification is penalty parameter\n",
    "* L2 (Ridge) penalty uses all available features, regularization C pushes toward zero \n",
    "* L2 (Lasso) penalty sets coefficients for most features to zero, uses only a subset\n",
    "    * Improved interpretability with L2 penalty (Lasso)"
   ]
  },
  {
   "cell_type": "code",
   "execution_count": null,
   "metadata": {
    "collapsed": true
   },
   "outputs": [],
   "source": []
  }
 ],
 "metadata": {
  "kernelspec": {
   "display_name": "Python 3",
   "language": "python",
   "name": "python3"
  },
  "language_info": {
   "codemirror_mode": {
    "name": "ipython",
    "version": 3
   },
   "file_extension": ".py",
   "mimetype": "text/x-python",
   "name": "python",
   "nbconvert_exporter": "python",
   "pygments_lexer": "ipython3",
   "version": "3.6.1"
  }
 },
 "nbformat": 4,
 "nbformat_minor": 2
}
