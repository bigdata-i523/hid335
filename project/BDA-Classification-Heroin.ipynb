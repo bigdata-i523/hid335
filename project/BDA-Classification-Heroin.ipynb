{
 "cells": [
  {
   "cell_type": "markdown",
   "metadata": {},
   "source": [
    "##  Big Data Applications and Analytics - Term Project \n",
    "### Sean M. Shiverick Fall 2017\n",
    "\n",
    "# Classification of Opioid Use: Heroin\n",
    "* Logistic Regression Classifier, Decision Tree Classifier, Random Forests\n",
    "* from Introduction to Machine Learning by Andreas Mueller and Sarah Guido\n",
    "* Ch. 2 Supervised Learning, Classification Models\n",
    "\n",
    "## Dataset: NSDUH-2015\n",
    "* National Survey of Drug Use and Health 2015\n",
    "* Substance Abuse and Metnal Health Data Archive\n",
    "\n",
    "### Import packages\n",
    "* Load forge dataset and assign variables"
   ]
  },
  {
   "cell_type": "code",
   "execution_count": 1,
   "metadata": {
    "collapsed": true
   },
   "outputs": [],
   "source": [
    "import sklearn\n",
    "import mglearn\n",
    "\n",
    "import numpy as np\n",
    "import pandas as pd\n",
    "\n",
    "import matplotlib.pyplot as plt\n",
    "%matplotlib inline"
   ]
  },
  {
   "cell_type": "markdown",
   "metadata": {},
   "source": [
    "## Part 1. Load Project dataset\n",
    "* Delete first two columns and `SUICIDATT`; examine dataframe keys\n",
    "* Identify features and target variable `HEROINEVR`\n",
    "* Split data into Training and Test sets"
   ]
  },
  {
   "cell_type": "code",
   "execution_count": 2,
   "metadata": {},
   "outputs": [
    {
     "data": {
      "text/plain": [
       "(57146, 20)"
      ]
     },
     "execution_count": 2,
     "metadata": {},
     "output_type": "execute_result"
    }
   ],
   "source": [
    "file = pd.read_csv('project-data.csv')\n",
    "opioids = pd.DataFrame(file)\n",
    "\n",
    "opioids.drop(opioids.columns[[0,1]], axis=1, inplace=True)\n",
    "del opioids['SUICATT']\n",
    "\n",
    "opioids.shape"
   ]
  },
  {
   "cell_type": "code",
   "execution_count": 3,
   "metadata": {},
   "outputs": [
    {
     "name": "stdout",
     "output_type": "stream",
     "text": [
      "Index(['AGECAT', 'SEX', 'MARRIED', 'EDUCAT', 'EMPLOY18', 'CTYMETRO', 'HEALTH',\n",
      "       'MENTHLTH', 'PRLMISEVR', 'PRLMISAB', 'PRLANY', 'HEROINEVR', 'HEROINUSE',\n",
      "       'HEROINFQY', 'TRQLZRS', 'SEDATVS', 'COCAINE', 'AMPHETMN', 'TRTMENT',\n",
      "       'MHTRTMT'],\n",
      "      dtype='object')\n"
     ]
    }
   ],
   "source": [
    "print(opioids.keys())"
   ]
  },
  {
   "cell_type": "code",
   "execution_count": 4,
   "metadata": {},
   "outputs": [
    {
     "data": {
      "text/plain": [
       "0    56190\n",
       "1      956\n",
       "Name: HEROINEVR, dtype: int64"
      ]
     },
     "execution_count": 4,
     "metadata": {},
     "output_type": "execute_result"
    }
   ],
   "source": [
    "opioids['HEROINEVR'].value_counts()"
   ]
  },
  {
   "cell_type": "code",
   "execution_count": 5,
   "metadata": {
    "collapsed": true,
    "scrolled": true
   },
   "outputs": [],
   "source": [
    "features = ['AGECAT', 'SEX', 'MARRIED', 'EDUCAT', 'EMPLOY18', \n",
    "            'CTYMETRO', 'HEALTH','MENTHLTH', 'PRLMISEVR', 'PRLMISAB', 'PRLANY', \n",
    "            'TRQLZRS', 'SEDATVS', 'COCAINE', 'AMPHETMN', 'TRTMENT','MHTRTMT']\n",
    "\n",
    "opioids.data = pd.DataFrame(opioids, columns=['AGECAT', 'SEX', 'MARRIED', 'EDUCAT', 'EMPLOY18', \n",
    "                                              'CTYMETRO', 'HEALTH','MENTHLTH', 'PRLMISEVR', \n",
    "                                              'PRLMISAB','PRLANY','TRQLZRS', 'SEDATVS', \n",
    "                                              'COCAINE', 'AMPHETMN', 'TRTMENT','MHTRTMT'])\n",
    "opioids.target = opioids['HEROINEVR']"
   ]
  },
  {
   "cell_type": "code",
   "execution_count": 6,
   "metadata": {
    "collapsed": true
   },
   "outputs": [],
   "source": [
    "from sklearn.model_selection import train_test_split\n",
    "\n",
    "X_train, X_test, y_train, y_test = train_test_split(\n",
    "    opioids.data, opioids.target, stratify=opioids.target, random_state=42)"
   ]
  },
  {
   "cell_type": "markdown",
   "metadata": {},
   "source": [
    "## Part 2. Logistic Regression Classifier\n",
    "* Decision boundary is a linear function of input\n",
    "* Binary linear classifier separates two classes using a line, plane, or hyperplane\n",
    "\n",
    "### Regularization Parameter C\n",
    "#### Low values of C: \n",
    "* Model tries to correctly classify all points correctly with a straight line\n",
    "* Cause models to try to adjust to the 'majority' of data points\n",
    "* May not capture overall layout of classes well; model is likely OVERFITTING! \n",
    "#### High values of C: \n",
    "* Correspond to less regularization, models will fit training set as best as possible\n",
    "* Stresses importance of each individual data point to be classified correctly \n",
    "\n",
    "\n",
    "## 2.1 Built Classifier Model on Training set"
   ]
  },
  {
   "cell_type": "code",
   "execution_count": 7,
   "metadata": {
    "collapsed": true
   },
   "outputs": [],
   "source": [
    "from sklearn.linear_model import LogisticRegression\n",
    "logreg = LogisticRegression().fit(X_train, y_train)"
   ]
  },
  {
   "cell_type": "markdown",
   "metadata": {},
   "source": [
    "## 2.2 Evaluate Classifier Model on Test set"
   ]
  },
  {
   "cell_type": "code",
   "execution_count": 8,
   "metadata": {},
   "outputs": [
    {
     "name": "stdout",
     "output_type": "stream",
     "text": [
      "Training set score: 0.984\n",
      "Test set score: 0.983\n"
     ]
    }
   ],
   "source": [
    "print(\"Training set score: {:.3f}\".format(logreg.score(X_train, y_train)))\n",
    "print(\"Test set score: {:.3f}\".format(logreg.score(X_test, y_test)))"
   ]
  },
  {
   "cell_type": "markdown",
   "metadata": {},
   "source": [
    "## 2.3 Adjust Model Parameter settings \n",
    "* Default setting `C=1` provides good performance for train and test sets\n",
    "* Very likely UNDERFITTING the test data\n",
    "\n",
    "### Higher value of C fits more 'Flexible' model\n",
    "* C=100 generally gives higher training set accuracy and slightly higher Test set accuracy"
   ]
  },
  {
   "cell_type": "code",
   "execution_count": 9,
   "metadata": {},
   "outputs": [
    {
     "name": "stdout",
     "output_type": "stream",
     "text": [
      "Training set score: 0.984\n",
      "Test set score: 0.983\n"
     ]
    }
   ],
   "source": [
    "logreg100 = LogisticRegression(C=100).fit(X_train, y_train)\n",
    "print(\"Training set score: {:.3f}\".format(logreg100.score(X_train, y_train)))\n",
    "print(\"Test set score: {:.3f}\".format(logreg100.score(X_test, y_test)))"
   ]
  },
  {
   "cell_type": "markdown",
   "metadata": {},
   "source": [
    "### Lower value of C fits more 'regularized' model\n",
    "* Setting C=0.01 leads model to try to adjust to 'majority' of data points"
   ]
  },
  {
   "cell_type": "code",
   "execution_count": 10,
   "metadata": {},
   "outputs": [
    {
     "name": "stdout",
     "output_type": "stream",
     "text": [
      "Training set score: 0.984\n",
      "Test set score: 0.983\n"
     ]
    }
   ],
   "source": [
    "logreg001 = LogisticRegression(C=0.01).fit(X_train, y_train)\n",
    "print(\"Training set score: {:.3f}\".format(logreg001.score(X_train, y_train)))\n",
    "print(\"Test set score: {:.3f}\".format(logreg001.score(X_test, y_test)))"
   ]
  },
  {
   "cell_type": "markdown",
   "metadata": {},
   "source": [
    "## 2.4 Plot Coefficients of Logistic Regression Classifier\n",
    "* Main difference between linear models for classification is penalty parameter\n",
    "* LogisticRegression applies `L2` (Ridge) regularization by default\n",
    "\n",
    "### Penalty Parameter (L) \n",
    "* L2 penalty (Ridge) uses all available features, regularization C pushes toward zero \n",
    "* L1 penalty (Lasso) sets coefficients for most features to zero, uses only a subset\n",
    "    * Improved interpretability with L2 penalty (Lasso)\n",
    "\n",
    "#### L1 Regularization (Lasso)\n",
    "*  Model is limited to using only a few features, more interpretable\n",
    "\n",
    "#### Legend: Different values of Parameter C\n",
    "* Stronger regularization pushes coefficients closer to zero\n",
    "* Parameter values can influence values of Coefficients"
   ]
  },
  {
   "cell_type": "code",
   "execution_count": 11,
   "metadata": {
    "scrolled": true
   },
   "outputs": [
    {
     "name": "stdout",
     "output_type": "stream",
     "text": [
      "Training accuracy of L1 logreg with C=0.010: 0.984\n",
      "Test accuracy of L1 logreg with C=0.010: 0.983\n",
      "Training accuracy of L1 logreg with C=1.000: 0.984\n",
      "Test accuracy of L1 logreg with C=1.000: 0.983\n",
      "Training accuracy of L1 logreg with C=100.000: 0.984\n",
      "Test accuracy of L1 logreg with C=100.000: 0.983\n"
     ]
    },
    {
     "data": {
      "text/plain": [
       "<matplotlib.legend.Legend at 0x117cf0e10>"
      ]
     },
     "execution_count": 11,
     "metadata": {},
     "output_type": "execute_result"
    },
    {
     "data": {
      "image/png": "[encoded data removed]",
      "text/plain": [
       "<matplotlib.figure.Figure at 0x117669b70>"
      ]
     },
     "metadata": {},
     "output_type": "display_data"
    }
   ],
   "source": [
    "for C, marker in zip([0.01, 1, 100], ['v', 'o', '^']):\n",
    "    lr_l1 = LogisticRegression(C=C, penalty=\"l1\").fit(X_train, y_train)\n",
    "    print(\"Training accuracy of L1 logreg with C={:.3f}: {:.3f}\".format(\n",
    "        C, lr_l1.score(X_train, y_train)))\n",
    "    print(\"Test accuracy of L1 logreg with C={:.3f}: {:.3f}\".format(\n",
    "        C, lr_l1.score(X_test, y_test)))\n",
    "    plt.plot(lr_l1.coef_.T, marker, label=\"C={:.3f}\".format(C))\n",
    "    \n",
    "plt.xticks(range(opioids.data.shape[1]), features, rotation=90)\n",
    "plt.hlines(0,0, opioids.data.shape[1])\n",
    "plt.xlabel(\"Coefficient Index\")\n",
    "plt.xlabel(\"Coefficient Magnitude\")\n",
    "\n",
    "plt.ylim(-2, 2)\n",
    "plt.legend()"
   ]
  },
  {
   "cell_type": "markdown",
   "metadata": {},
   "source": [
    "# Part 3. Decision Trees Classifier\n",
    "## Building decision tree \n",
    "* Continues until all leaves are pure leads to models that are complex, overfit\n",
    "* Presence of pure leaves means the tree is 100% accurate on the training set\n",
    "* Each data point in training set is in a leaf that has the correct majority class\n",
    "\n",
    "### Pre-pruning:  to Prevent Overfitting \n",
    "* Stopping creation of tree early\n",
    "* Limiting the maximum depth of the tree, or limiting maximum number of leaves\n",
    "* Requiring a minimum number of points in a node to keep splitting it\n",
    "\n",
    "## 3.1 Build Decision Trees Classifier Model for Heroin\n",
    "* Import package: `DecisionTreeClassifier`\n",
    "* Build model using default setting that fully develops tree until all leaves are pure\n",
    "* Fix the `random_state` in the tree, for breaking ties internally"
   ]
  },
  {
   "cell_type": "code",
   "execution_count": 12,
   "metadata": {},
   "outputs": [
    {
     "data": {
      "text/plain": [
       "DecisionTreeClassifier(class_weight=None, criterion='gini', max_depth=None,\n",
       "            max_features=None, max_leaf_nodes=None,\n",
       "            min_impurity_split=1e-07, min_samples_leaf=1,\n",
       "            min_samples_split=2, min_weight_fraction_leaf=0.0,\n",
       "            presort=False, random_state=0, splitter='best')"
      ]
     },
     "execution_count": 12,
     "metadata": {},
     "output_type": "execute_result"
    }
   ],
   "source": [
    "from IPython.display import Image, display\n",
    "from sklearn.tree import DecisionTreeClassifier\n",
    "\n",
    "tree = DecisionTreeClassifier(random_state=0)\n",
    "tree.fit(X_train, y_train)"
   ]
  },
  {
   "cell_type": "markdown",
   "metadata": {},
   "source": [
    "## 3.2 Evaluate Tree Classifier model on Test set "
   ]
  },
  {
   "cell_type": "code",
   "execution_count": 13,
   "metadata": {},
   "outputs": [
    {
     "name": "stdout",
     "output_type": "stream",
     "text": [
      "Accuracy on the training: 0.999\n",
      "Accuracy on the test set: 0.974\n"
     ]
    }
   ],
   "source": [
    "print(\"Accuracy on the training: {:.3f}\".format(tree.score(X_train, y_train)))\n",
    "print(\"Accuracy on the test set: {:.3f}\".format(tree.score(X_test, y_test)))"
   ]
  },
  {
   "cell_type": "markdown",
   "metadata": {},
   "source": [
    "## 3.3 Adjust Parameter Settings\n",
    "* Training set accuracy is 100% because leaves are pure\n",
    "* Trees can become arbitrarily deep, complex, if depth of the tree is not limmited\n",
    "* Unpruned trees are proone to overfitting and not generalizing well to new data\n",
    "\n",
    "### Pruning: Set max_depth=4\n",
    "* Tree depth is limited to 4 branches\n",
    "* Limiting depth of the tree decreases overfitting \n",
    "* Results in lower accuracy on training set, but improvement on test set"
   ]
  },
  {
   "cell_type": "code",
   "execution_count": 14,
   "metadata": {},
   "outputs": [
    {
     "name": "stdout",
     "output_type": "stream",
     "text": [
      "Accuracy on the training: 0.985\n",
      "Accuracy on the test set: 0.984\n"
     ]
    }
   ],
   "source": [
    "tree = DecisionTreeClassifier(max_depth=4, random_state=0)\n",
    "tree.fit(X_train, y_train)\n",
    "\n",
    "print(\"Accuracy on the training: {:.3f}\".format(tree.score(X_train, y_train)))\n",
    "print(\"Accuracy on the test set: {:.3f}\".format(tree.score(X_test, y_test)))"
   ]
  },
  {
   "cell_type": "markdown",
   "metadata": {},
   "source": [
    "## 3.4 Visualizing Decision Tree Classifier\n",
    "* Visualize the tree using export_graphviz function from trees module\n",
    "* Set an option to color the nodes to reflect majority class in each node\n",
    "* First, install graphviz at terminal using brew install graphviz"
   ]
  },
  {
   "cell_type": "code",
   "execution_count": 15,
   "metadata": {
    "collapsed": true
   },
   "outputs": [],
   "source": [
    "from sklearn.tree import export_graphviz\n",
    "\n",
    "export_graphviz(tree, out_file=\"tree.dot\", class_names=[\"Yes\", \"No\"],\n",
    "                feature_names=features, impurity=False, filled=True)"
   ]
  },
  {
   "cell_type": "code",
   "execution_count": 16,
   "metadata": {},
   "outputs": [
    {
     "data": {
      "image/svg+xml": [
       "<?xml version=\"1.0\" encoding=\"UTF-8\" standalone=\"no\"?>\n",
       "<!DOCTYPE svg PUBLIC \"-//W3C//DTD SVG 1.1//EN\"\n",
       " \"http://www.w3.org/Graphics/SVG/1.1/DTD/svg11.dtd\">\n",
       "<!-- Generated by graphviz version 2.38.0 (20140413.2041)\n",
       " -->\n",
       "<!-- Title: Tree Pages: 1 -->\n",
       "<svg width=\"1990pt\" height=\"458pt\"\n",
       " viewBox=\"0.00 0.00 1989.54 458.00\" xmlns=\"http://www.w3.org/2000/svg\" xmlns:xlink=\"http://www.w3.org/1999/xlink\">\n",
       "<g id=\"graph0\" class=\"graph\" transform=\"scale(1 1) rotate(0) translate(4 454)\">\n",
       "<title>Tree</title>\n",
       "<polygon fill=\"white\" stroke=\"none\" points=\"-4,4 -4,-454 1985.54,-454 1985.54,4 -4,4\"/>\n",
       "<!-- 0 -->\n",
       "<g id=\"node1\" class=\"node\"><title>0</title>\n",
       "<polygon fill=\"#e58139\" fill-opacity=\"0.984314\" stroke=\"black\" points=\"1061.81,-450 928.731,-450 928.731,-386 1061.81,-386 1061.81,-450\"/>\n",
       "<text text-anchor=\"middle\" x=\"995.269\" y=\"-434.8\" font-family=\"Times,serif\" font-size=\"14.00\">COCAINE &lt;= 1.5</text>\n",
       "<text text-anchor=\"middle\" x=\"995.269\" y=\"-420.8\" font-family=\"Times,serif\" font-size=\"14.00\">samples = 42859</text>\n",
       "<text text-anchor=\"middle\" x=\"995.269\" y=\"-406.8\" font-family=\"Times,serif\" font-size=\"14.00\">value = [42142, 717]</text>\n",
       "<text text-anchor=\"middle\" x=\"995.269\" y=\"-392.8\" font-family=\"Times,serif\" font-size=\"14.00\">class = Yes</text>\n",
       "</g>\n",
       "<!-- 1 -->\n",
       "<g id=\"node2\" class=\"node\"><title>1</title>\n",
       "<polygon fill=\"#e58139\" fill-opacity=\"0.992157\" stroke=\"black\" points=\"819.806,-350 686.731,-350 686.731,-286 819.806,-286 819.806,-350\"/>\n",
       "<text text-anchor=\"middle\" x=\"753.269\" y=\"-334.8\" font-family=\"Times,serif\" font-size=\"14.00\">COCAINE &lt;= 0.5</text>\n",
       "<text text-anchor=\"middle\" x=\"753.269\" y=\"-320.8\" font-family=\"Times,serif\" font-size=\"14.00\">samples = 40956</text>\n",
       "<text text-anchor=\"middle\" x=\"753.269\" y=\"-306.8\" font-family=\"Times,serif\" font-size=\"14.00\">value = [40699, 257]</text>\n",
       "<text text-anchor=\"middle\" x=\"753.269\" y=\"-292.8\" font-family=\"Times,serif\" font-size=\"14.00\">class = Yes</text>\n",
       "</g>\n",
       "<!-- 0&#45;&gt;1 -->\n",
       "<g id=\"edge1\" class=\"edge\"><title>0&#45;&gt;1</title>\n",
       "<path fill=\"none\" stroke=\"black\" d=\"M928.5,-389.962C897.686,-377.483 860.954,-362.608 829.099,-349.708\"/>\n",
       "<polygon fill=\"black\" stroke=\"black\" points=\"830.401,-346.46 819.819,-345.95 827.774,-352.948 830.401,-346.46\"/>\n",
       "<text text-anchor=\"middle\" x=\"829.569\" y=\"-364.771\" font-family=\"Times,serif\" font-size=\"14.00\">True</text>\n",
       "</g>\n",
       "<!-- 16 -->\n",
       "<g id=\"node17\" class=\"node\"><title>16</title>\n",
       "<polygon fill=\"#e58139\" fill-opacity=\"0.682353\" stroke=\"black\" points=\"1315.31,-350 1189.23,-350 1189.23,-286 1315.31,-286 1315.31,-350\"/>\n",
       "<text text-anchor=\"middle\" x=\"1252.27\" y=\"-334.8\" font-family=\"Times,serif\" font-size=\"14.00\">PRLANY &lt;= 3.5</text>\n",
       "<text text-anchor=\"middle\" x=\"1252.27\" y=\"-320.8\" font-family=\"Times,serif\" font-size=\"14.00\">samples = 1903</text>\n",
       "<text text-anchor=\"middle\" x=\"1252.27\" y=\"-306.8\" font-family=\"Times,serif\" font-size=\"14.00\">value = [1443, 460]</text>\n",
       "<text text-anchor=\"middle\" x=\"1252.27\" y=\"-292.8\" font-family=\"Times,serif\" font-size=\"14.00\">class = Yes</text>\n",
       "</g>\n",
       "<!-- 0&#45;&gt;16 -->\n",
       "<g id=\"edge16\" class=\"edge\"><title>0&#45;&gt;16</title>\n",
       "<path fill=\"none\" stroke=\"black\" d=\"M1062.12,-391.507C1098.03,-377.816 1142.35,-360.914 1179.17,-346.875\"/>\n",
       "<polygon fill=\"black\" stroke=\"black\" points=\"1180.75,-350.017 1188.85,-343.184 1178.26,-343.477 1180.75,-350.017\"/>\n",
       "<text text-anchor=\"middle\" x=\"1178.63\" y=\"-361.8\" font-family=\"Times,serif\" font-size=\"14.00\">False</text>\n",
       "</g>\n",
       "<!-- 2 -->\n",
       "<g id=\"node3\" class=\"node\"><title>2</title>\n",
       "<polygon fill=\"#e58139\" stroke=\"black\" points=\"456.677,-250 319.86,-250 319.86,-186 456.677,-186 456.677,-250\"/>\n",
       "<text text-anchor=\"middle\" x=\"388.269\" y=\"-234.8\" font-family=\"Times,serif\" font-size=\"14.00\">AMPHETMN &lt;= 1.5</text>\n",
       "<text text-anchor=\"middle\" x=\"388.269\" y=\"-220.8\" font-family=\"Times,serif\" font-size=\"14.00\">samples = 37780</text>\n",
       "<text text-anchor=\"middle\" x=\"388.269\" y=\"-206.8\" font-family=\"Times,serif\" font-size=\"14.00\">value = [37727, 53]</text>\n",
       "<text text-anchor=\"middle\" x=\"388.269\" y=\"-192.8\" font-family=\"Times,serif\" font-size=\"14.00\">class = Yes</text>\n",
       "</g>\n",
       "<!-- 1&#45;&gt;2 -->\n",
       "<g id=\"edge2\" class=\"edge\"><title>1&#45;&gt;2</title>\n",
       "<path fill=\"none\" stroke=\"black\" d=\"M686.322,-299.025C624.267,-282.364 531.933,-257.573 466.504,-240.006\"/>\n",
       "<polygon fill=\"black\" stroke=\"black\" points=\"467.213,-236.572 456.648,-237.359 465.398,-243.333 467.213,-236.572\"/>\n",
       "</g>\n",
       "<!-- 9 -->\n",
       "<g id=\"node10\" class=\"node\"><title>9</title>\n",
       "<polygon fill=\"#e58139\" fill-opacity=\"0.929412\" stroke=\"black\" points=\"816.307,-250 690.231,-250 690.231,-186 816.307,-186 816.307,-250\"/>\n",
       "<text text-anchor=\"middle\" x=\"753.269\" y=\"-234.8\" font-family=\"Times,serif\" font-size=\"14.00\">PRLANY &lt;= 5.5</text>\n",
       "<text text-anchor=\"middle\" x=\"753.269\" y=\"-220.8\" font-family=\"Times,serif\" font-size=\"14.00\">samples = 3176</text>\n",
       "<text text-anchor=\"middle\" x=\"753.269\" y=\"-206.8\" font-family=\"Times,serif\" font-size=\"14.00\">value = [2972, 204]</text>\n",
       "<text text-anchor=\"middle\" x=\"753.269\" y=\"-192.8\" font-family=\"Times,serif\" font-size=\"14.00\">class = Yes</text>\n",
       "</g>\n",
       "<!-- 1&#45;&gt;9 -->\n",
       "<g id=\"edge9\" class=\"edge\"><title>1&#45;&gt;9</title>\n",
       "<path fill=\"none\" stroke=\"black\" d=\"M753.269,-285.992C753.269,-277.859 753.269,-268.959 753.269,-260.378\"/>\n",
       "<polygon fill=\"black\" stroke=\"black\" points=\"756.769,-260.142 753.269,-250.142 749.769,-260.142 756.769,-260.142\"/>\n",
       "</g>\n",
       "<!-- 3 -->\n",
       "<g id=\"node4\" class=\"node\"><title>3</title>\n",
       "<polygon fill=\"#e58139\" stroke=\"black\" points=\"260.307,-150 134.231,-150 134.231,-86 260.307,-86 260.307,-150\"/>\n",
       "<text text-anchor=\"middle\" x=\"197.269\" y=\"-134.8\" font-family=\"Times,serif\" font-size=\"14.00\">TRQLZRS &lt;= 3.5</text>\n",
       "<text text-anchor=\"middle\" x=\"197.269\" y=\"-120.8\" font-family=\"Times,serif\" font-size=\"14.00\">samples = 37678</text>\n",
       "<text text-anchor=\"middle\" x=\"197.269\" y=\"-106.8\" font-family=\"Times,serif\" font-size=\"14.00\">value = [37633, 45]</text>\n",
       "<text text-anchor=\"middle\" x=\"197.269\" y=\"-92.8\" font-family=\"Times,serif\" font-size=\"14.00\">class = Yes</text>\n",
       "</g>\n",
       "<!-- 2&#45;&gt;3 -->\n",
       "<g id=\"edge3\" class=\"edge\"><title>2&#45;&gt;3</title>\n",
       "<path fill=\"none\" stroke=\"black\" d=\"M327.835,-185.992C308.501,-176.072 286.94,-165.009 266.999,-154.778\"/>\n",
       "<polygon fill=\"black\" stroke=\"black\" points=\"268.46,-151.594 257.965,-150.142 265.264,-157.822 268.46,-151.594\"/>\n",
       "</g>\n",
       "<!-- 6 -->\n",
       "<g id=\"node7\" class=\"node\"><title>6</title>\n",
       "<polygon fill=\"#e58139\" fill-opacity=\"0.913725\" stroke=\"black\" points=\"454.568,-150 321.97,-150 321.97,-86 454.568,-86 454.568,-150\"/>\n",
       "<text text-anchor=\"middle\" x=\"388.269\" y=\"-134.8\" font-family=\"Times,serif\" font-size=\"14.00\">PRLMISAB &lt;= 11.5</text>\n",
       "<text text-anchor=\"middle\" x=\"388.269\" y=\"-120.8\" font-family=\"Times,serif\" font-size=\"14.00\">samples = 102</text>\n",
       "<text text-anchor=\"middle\" x=\"388.269\" y=\"-106.8\" font-family=\"Times,serif\" font-size=\"14.00\">value = [94, 8]</text>\n",
       "<text text-anchor=\"middle\" x=\"388.269\" y=\"-92.8\" font-family=\"Times,serif\" font-size=\"14.00\">class = Yes</text>\n",
       "</g>\n",
       "<!-- 2&#45;&gt;6 -->\n",
       "<g id=\"edge6\" class=\"edge\"><title>2&#45;&gt;6</title>\n",
       "<path fill=\"none\" stroke=\"black\" d=\"M388.269,-185.992C388.269,-177.859 388.269,-168.959 388.269,-160.378\"/>\n",
       "<polygon fill=\"black\" stroke=\"black\" points=\"391.769,-160.142 388.269,-150.142 384.769,-160.142 391.769,-160.142\"/>\n",
       "</g>\n",
       "<!-- 4 -->\n",
       "<g id=\"node5\" class=\"node\"><title>4</title>\n",
       "<polygon fill=\"#e58139\" stroke=\"black\" points=\"126.307,-50 0.230602,-50 0.230602,-0 126.307,-0 126.307,-50\"/>\n",
       "<text text-anchor=\"middle\" x=\"63.2686\" y=\"-34.8\" font-family=\"Times,serif\" font-size=\"14.00\">samples = 37562</text>\n",
       "<text text-anchor=\"middle\" x=\"63.2686\" y=\"-20.8\" font-family=\"Times,serif\" font-size=\"14.00\">value = [37523, 39]</text>\n",
       "<text text-anchor=\"middle\" x=\"63.2686\" y=\"-6.8\" font-family=\"Times,serif\" font-size=\"14.00\">class = Yes</text>\n",
       "</g>\n",
       "<!-- 3&#45;&gt;4 -->\n",
       "<g id=\"edge4\" class=\"edge\"><title>3&#45;&gt;4</title>\n",
       "<path fill=\"none\" stroke=\"black\" d=\"M151.528,-85.9375C137.213,-76.2158 121.453,-65.5132 107.261,-55.8752\"/>\n",
       "<polygon fill=\"black\" stroke=\"black\" points=\"108.893,-52.7527 98.6535,-50.0301 104.96,-58.5436 108.893,-52.7527\"/>\n",
       "</g>\n",
       "<!-- 5 -->\n",
       "<g id=\"node6\" class=\"node\"><title>5</title>\n",
       "<polygon fill=\"#e58139\" fill-opacity=\"0.945098\" stroke=\"black\" points=\"249.793,-50 144.744,-50 144.744,-0 249.793,-0 249.793,-50\"/>\n",
       "<text text-anchor=\"middle\" x=\"197.269\" y=\"-34.8\" font-family=\"Times,serif\" font-size=\"14.00\">samples = 116</text>\n",
       "<text text-anchor=\"middle\" x=\"197.269\" y=\"-20.8\" font-family=\"Times,serif\" font-size=\"14.00\">value = [110, 6]</text>\n",
       "<text text-anchor=\"middle\" x=\"197.269\" y=\"-6.8\" font-family=\"Times,serif\" font-size=\"14.00\">class = Yes</text>\n",
       "</g>\n",
       "<!-- 3&#45;&gt;5 -->\n",
       "<g id=\"edge5\" class=\"edge\"><title>3&#45;&gt;5</title>\n",
       "<path fill=\"none\" stroke=\"black\" d=\"M197.269,-85.9375C197.269,-77.6833 197.269,-68.7219 197.269,-60.3053\"/>\n",
       "<polygon fill=\"black\" stroke=\"black\" points=\"200.769,-60.03 197.269,-50.0301 193.769,-60.0301 200.769,-60.03\"/>\n",
       "</g>\n",
       "<!-- 7 -->\n",
       "<g id=\"node8\" class=\"node\"><title>7</title>\n",
       "<polygon fill=\"#e58139\" fill-opacity=\"0.925490\" stroke=\"black\" points=\"366.307,-50 268.23,-50 268.23,-0 366.307,-0 366.307,-50\"/>\n",
       "<text text-anchor=\"middle\" x=\"317.269\" y=\"-34.8\" font-family=\"Times,serif\" font-size=\"14.00\">samples = 101</text>\n",
       "<text text-anchor=\"middle\" x=\"317.269\" y=\"-20.8\" font-family=\"Times,serif\" font-size=\"14.00\">value = [94, 7]</text>\n",
       "<text text-anchor=\"middle\" x=\"317.269\" y=\"-6.8\" font-family=\"Times,serif\" font-size=\"14.00\">class = Yes</text>\n",
       "</g>\n",
       "<!-- 6&#45;&gt;7 -->\n",
       "<g id=\"edge7\" class=\"edge\"><title>6&#45;&gt;7</title>\n",
       "<path fill=\"none\" stroke=\"black\" d=\"M364.033,-85.9375C357.02,-76.9496 349.354,-67.1231 342.294,-58.0747\"/>\n",
       "<polygon fill=\"black\" stroke=\"black\" points=\"344.928,-55.7613 336.017,-50.0301 339.409,-60.0673 344.928,-55.7613\"/>\n",
       "</g>\n",
       "<!-- 8 -->\n",
       "<g id=\"node9\" class=\"node\"><title>8</title>\n",
       "<polygon fill=\"#399de5\" stroke=\"black\" points=\"475.807,-50 384.73,-50 384.73,-0 475.807,-0 475.807,-50\"/>\n",
       "<text text-anchor=\"middle\" x=\"430.269\" y=\"-34.8\" font-family=\"Times,serif\" font-size=\"14.00\">samples = 1</text>\n",
       "<text text-anchor=\"middle\" x=\"430.269\" y=\"-20.8\" font-family=\"Times,serif\" font-size=\"14.00\">value = [0, 1]</text>\n",
       "<text text-anchor=\"middle\" x=\"430.269\" y=\"-6.8\" font-family=\"Times,serif\" font-size=\"14.00\">class = No</text>\n",
       "</g>\n",
       "<!-- 6&#45;&gt;8 -->\n",
       "<g id=\"edge8\" class=\"edge\"><title>6&#45;&gt;8</title>\n",
       "<path fill=\"none\" stroke=\"black\" d=\"M402.605,-85.9375C406.584,-77.3164 410.919,-67.9239 414.952,-59.1865\"/>\n",
       "<polygon fill=\"black\" stroke=\"black\" points=\"418.165,-60.5764 419.178,-50.0301 411.809,-57.643 418.165,-60.5764\"/>\n",
       "</g>\n",
       "<!-- 10 -->\n",
       "<g id=\"node11\" class=\"node\"><title>10</title>\n",
       "<polygon fill=\"#e58139\" fill-opacity=\"0.937255\" stroke=\"black\" points=\"744.307,-150 618.231,-150 618.231,-86 744.307,-86 744.307,-150\"/>\n",
       "<text text-anchor=\"middle\" x=\"681.269\" y=\"-134.8\" font-family=\"Times,serif\" font-size=\"14.00\">PRLMISAB &lt;= 0.5</text>\n",
       "<text text-anchor=\"middle\" x=\"681.269\" y=\"-120.8\" font-family=\"Times,serif\" font-size=\"14.00\">samples = 3139</text>\n",
       "<text text-anchor=\"middle\" x=\"681.269\" y=\"-106.8\" font-family=\"Times,serif\" font-size=\"14.00\">value = [2954, 185]</text>\n",
       "<text text-anchor=\"middle\" x=\"681.269\" y=\"-92.8\" font-family=\"Times,serif\" font-size=\"14.00\">class = Yes</text>\n",
       "</g>\n",
       "<!-- 9&#45;&gt;10 -->\n",
       "<g id=\"edge10\" class=\"edge\"><title>9&#45;&gt;10</title>\n",
       "<path fill=\"none\" stroke=\"black\" d=\"M730.487,-185.992C724.053,-177.234 716.964,-167.585 710.218,-158.404\"/>\n",
       "<polygon fill=\"black\" stroke=\"black\" points=\"712.89,-156.129 704.149,-150.142 707.249,-160.274 712.89,-156.129\"/>\n",
       "</g>\n",
       "<!-- 13 -->\n",
       "<g id=\"node14\" class=\"node\"><title>13</title>\n",
       "<polygon fill=\"#399de5\" fill-opacity=\"0.050980\" stroke=\"black\" points=\"888.58,-150 761.957,-150 761.957,-86 888.58,-86 888.58,-150\"/>\n",
       "<text text-anchor=\"middle\" x=\"825.269\" y=\"-134.8\" font-family=\"Times,serif\" font-size=\"14.00\">PRLMISAB &lt;= 7.5</text>\n",
       "<text text-anchor=\"middle\" x=\"825.269\" y=\"-120.8\" font-family=\"Times,serif\" font-size=\"14.00\">samples = 37</text>\n",
       "<text text-anchor=\"middle\" x=\"825.269\" y=\"-106.8\" font-family=\"Times,serif\" font-size=\"14.00\">value = [18, 19]</text>\n",
       "<text text-anchor=\"middle\" x=\"825.269\" y=\"-92.8\" font-family=\"Times,serif\" font-size=\"14.00\">class = No</text>\n",
       "</g>\n",
       "<!-- 9&#45;&gt;13 -->\n",
       "<g id=\"edge13\" class=\"edge\"><title>9&#45;&gt;13</title>\n",
       "<path fill=\"none\" stroke=\"black\" d=\"M776.05,-185.992C782.485,-177.234 789.574,-167.585 796.319,-158.404\"/>\n",
       "<polygon fill=\"black\" stroke=\"black\" points=\"799.288,-160.274 802.388,-150.142 793.647,-156.129 799.288,-160.274\"/>\n",
       "</g>\n",
       "<!-- 11 -->\n",
       "<g id=\"node12\" class=\"node\"><title>11</title>\n",
       "<polygon fill=\"#e58139\" fill-opacity=\"0.964706\" stroke=\"black\" points=\"613.807,-50 494.731,-50 494.731,-0 613.807,-0 613.807,-50\"/>\n",
       "<text text-anchor=\"middle\" x=\"554.269\" y=\"-34.8\" font-family=\"Times,serif\" font-size=\"14.00\">samples = 2145</text>\n",
       "<text text-anchor=\"middle\" x=\"554.269\" y=\"-20.8\" font-family=\"Times,serif\" font-size=\"14.00\">value = [2075, 70]</text>\n",
       "<text text-anchor=\"middle\" x=\"554.269\" y=\"-6.8\" font-family=\"Times,serif\" font-size=\"14.00\">class = Yes</text>\n",
       "</g>\n",
       "<!-- 10&#45;&gt;11 -->\n",
       "<g id=\"edge11\" class=\"edge\"><title>10&#45;&gt;11</title>\n",
       "<path fill=\"none\" stroke=\"black\" d=\"M637.918,-85.9375C624.35,-76.2158 609.413,-65.5132 595.963,-55.8752\"/>\n",
       "<polygon fill=\"black\" stroke=\"black\" points=\"597.972,-53.0096 587.805,-50.0301 593.895,-58.6996 597.972,-53.0096\"/>\n",
       "</g>\n",
       "<!-- 12 -->\n",
       "<g id=\"node13\" class=\"node\"><title>12</title>\n",
       "<polygon fill=\"#e58139\" fill-opacity=\"0.870588\" stroke=\"black\" points=\"750.793,-50 631.744,-50 631.744,-0 750.793,-0 750.793,-50\"/>\n",
       "<text text-anchor=\"middle\" x=\"691.269\" y=\"-34.8\" font-family=\"Times,serif\" font-size=\"14.00\">samples = 994</text>\n",
       "<text text-anchor=\"middle\" x=\"691.269\" y=\"-20.8\" font-family=\"Times,serif\" font-size=\"14.00\">value = [879, 115]</text>\n",
       "<text text-anchor=\"middle\" x=\"691.269\" y=\"-6.8\" font-family=\"Times,serif\" font-size=\"14.00\">class = Yes</text>\n",
       "</g>\n",
       "<!-- 10&#45;&gt;12 -->\n",
       "<g id=\"edge12\" class=\"edge\"><title>10&#45;&gt;12</title>\n",
       "<path fill=\"none\" stroke=\"black\" d=\"M684.682,-85.9375C685.599,-77.5916 686.596,-68.5226 687.53,-60.025\"/>\n",
       "<polygon fill=\"black\" stroke=\"black\" points=\"691.015,-60.3526 688.628,-50.0301 684.056,-59.5879 691.015,-60.3526\"/>\n",
       "</g>\n",
       "<!-- 14 -->\n",
       "<g id=\"node15\" class=\"node\"><title>14</title>\n",
       "<polygon fill=\"#e58139\" fill-opacity=\"0.749020\" stroke=\"black\" points=\"859.807,-50 768.73,-50 768.73,-0 859.807,-0 859.807,-50\"/>\n",
       "<text text-anchor=\"middle\" x=\"814.269\" y=\"-34.8\" font-family=\"Times,serif\" font-size=\"14.00\">samples = 10</text>\n",
       "<text text-anchor=\"middle\" x=\"814.269\" y=\"-20.8\" font-family=\"Times,serif\" font-size=\"14.00\">value = [8, 2]</text>\n",
       "<text text-anchor=\"middle\" x=\"814.269\" y=\"-6.8\" font-family=\"Times,serif\" font-size=\"14.00\">class = Yes</text>\n",
       "</g>\n",
       "<!-- 13&#45;&gt;14 -->\n",
       "<g id=\"edge14\" class=\"edge\"><title>13&#45;&gt;14</title>\n",
       "<path fill=\"none\" stroke=\"black\" d=\"M821.514,-85.9375C820.505,-77.5916 819.409,-68.5226 818.381,-60.025\"/>\n",
       "<polygon fill=\"black\" stroke=\"black\" points=\"821.848,-59.5378 817.173,-50.0301 814.899,-60.3779 821.848,-59.5378\"/>\n",
       "</g>\n",
       "<!-- 15 -->\n",
       "<g id=\"node16\" class=\"node\"><title>15</title>\n",
       "<polygon fill=\"#399de5\" fill-opacity=\"0.411765\" stroke=\"black\" points=\"983.807,-50 878.73,-50 878.73,-0 983.807,-0 983.807,-50\"/>\n",
       "<text text-anchor=\"middle\" x=\"931.269\" y=\"-34.8\" font-family=\"Times,serif\" font-size=\"14.00\">samples = 27</text>\n",
       "<text text-anchor=\"middle\" x=\"931.269\" y=\"-20.8\" font-family=\"Times,serif\" font-size=\"14.00\">value = [10, 17]</text>\n",
       "<text text-anchor=\"middle\" x=\"931.269\" y=\"-6.8\" font-family=\"Times,serif\" font-size=\"14.00\">class = No</text>\n",
       "</g>\n",
       "<!-- 13&#45;&gt;15 -->\n",
       "<g id=\"edge15\" class=\"edge\"><title>13&#45;&gt;15</title>\n",
       "<path fill=\"none\" stroke=\"black\" d=\"M861.451,-85.9375C872.455,-76.491 884.537,-66.1182 895.513,-56.6961\"/>\n",
       "<polygon fill=\"black\" stroke=\"black\" points=\"897.97,-59.1996 903.277,-50.0301 893.41,-53.8883 897.97,-59.1996\"/>\n",
       "</g>\n",
       "<!-- 17 -->\n",
       "<g id=\"node18\" class=\"node\"><title>17</title>\n",
       "<polygon fill=\"#e58139\" fill-opacity=\"0.745098\" stroke=\"black\" points=\"1319.63,-250 1184.91,-250 1184.91,-186 1319.63,-186 1319.63,-250\"/>\n",
       "<text text-anchor=\"middle\" x=\"1252.27\" y=\"-234.8\" font-family=\"Times,serif\" font-size=\"14.00\">PRLMISEVR &lt;= 0.5</text>\n",
       "<text text-anchor=\"middle\" x=\"1252.27\" y=\"-220.8\" font-family=\"Times,serif\" font-size=\"14.00\">samples = 1688</text>\n",
       "<text text-anchor=\"middle\" x=\"1252.27\" y=\"-206.8\" font-family=\"Times,serif\" font-size=\"14.00\">value = [1346, 342]</text>\n",
       "<text text-anchor=\"middle\" x=\"1252.27\" y=\"-192.8\" font-family=\"Times,serif\" font-size=\"14.00\">class = Yes</text>\n",
       "</g>\n",
       "<!-- 16&#45;&gt;17 -->\n",
       "<g id=\"edge17\" class=\"edge\"><title>16&#45;&gt;17</title>\n",
       "<path fill=\"none\" stroke=\"black\" d=\"M1252.27,-285.992C1252.27,-277.859 1252.27,-268.959 1252.27,-260.378\"/>\n",
       "<polygon fill=\"black\" stroke=\"black\" points=\"1255.77,-260.142 1252.27,-250.142 1248.77,-260.142 1255.77,-260.142\"/>\n",
       "</g>\n",
       "<!-- 24 -->\n",
       "<g id=\"node25\" class=\"node\"><title>24</title>\n",
       "<polygon fill=\"#399de5\" fill-opacity=\"0.176471\" stroke=\"black\" points=\"1683.29,-250 1565.25,-250 1565.25,-186 1683.29,-186 1683.29,-250\"/>\n",
       "<text text-anchor=\"middle\" x=\"1624.27\" y=\"-234.8\" font-family=\"Times,serif\" font-size=\"14.00\">TRQLZRS &lt;= 4.5</text>\n",
       "<text text-anchor=\"middle\" x=\"1624.27\" y=\"-220.8\" font-family=\"Times,serif\" font-size=\"14.00\">samples = 215</text>\n",
       "<text text-anchor=\"middle\" x=\"1624.27\" y=\"-206.8\" font-family=\"Times,serif\" font-size=\"14.00\">value = [97, 118]</text>\n",
       "<text text-anchor=\"middle\" x=\"1624.27\" y=\"-192.8\" font-family=\"Times,serif\" font-size=\"14.00\">class = No</text>\n",
       "</g>\n",
       "<!-- 16&#45;&gt;24 -->\n",
       "<g id=\"edge24\" class=\"edge\"><title>16&#45;&gt;24</title>\n",
       "<path fill=\"none\" stroke=\"black\" d=\"M1315.37,-300.376C1381.96,-282.835 1486.57,-255.276 1555.29,-237.172\"/>\n",
       "<polygon fill=\"black\" stroke=\"black\" points=\"1556.38,-240.504 1565.16,-234.572 1554.6,-233.735 1556.38,-240.504\"/>\n",
       "</g>\n",
       "<!-- 18 -->\n",
       "<g id=\"node19\" class=\"node\"><title>18</title>\n",
       "<polygon fill=\"#e58139\" fill-opacity=\"0.858824\" stroke=\"black\" points=\"1243.79,-150 1124.74,-150 1124.74,-86 1243.79,-86 1243.79,-150\"/>\n",
       "<text text-anchor=\"middle\" x=\"1184.27\" y=\"-134.8\" font-family=\"Times,serif\" font-size=\"14.00\">COCAINE &lt;= 4.5</text>\n",
       "<text text-anchor=\"middle\" x=\"1184.27\" y=\"-120.8\" font-family=\"Times,serif\" font-size=\"14.00\">samples = 897</text>\n",
       "<text text-anchor=\"middle\" x=\"1184.27\" y=\"-106.8\" font-family=\"Times,serif\" font-size=\"14.00\">value = [785, 112]</text>\n",
       "<text text-anchor=\"middle\" x=\"1184.27\" y=\"-92.8\" font-family=\"Times,serif\" font-size=\"14.00\">class = Yes</text>\n",
       "</g>\n",
       "<!-- 17&#45;&gt;18 -->\n",
       "<g id=\"edge18\" class=\"edge\"><title>17&#45;&gt;18</title>\n",
       "<path fill=\"none\" stroke=\"black\" d=\"M1230.75,-185.992C1224.68,-177.234 1217.98,-167.585 1211.61,-158.404\"/>\n",
       "<polygon fill=\"black\" stroke=\"black\" points=\"1214.45,-156.363 1205.88,-150.142 1208.7,-160.354 1214.45,-156.363\"/>\n",
       "</g>\n",
       "<!-- 21 -->\n",
       "<g id=\"node22\" class=\"node\"><title>21</title>\n",
       "<polygon fill=\"#e58139\" fill-opacity=\"0.588235\" stroke=\"black\" points=\"1380.81,-150 1261.73,-150 1261.73,-86 1380.81,-86 1380.81,-150\"/>\n",
       "<text text-anchor=\"middle\" x=\"1321.27\" y=\"-134.8\" font-family=\"Times,serif\" font-size=\"14.00\">COCAINE &lt;= 3.5</text>\n",
       "<text text-anchor=\"middle\" x=\"1321.27\" y=\"-120.8\" font-family=\"Times,serif\" font-size=\"14.00\">samples = 791</text>\n",
       "<text text-anchor=\"middle\" x=\"1321.27\" y=\"-106.8\" font-family=\"Times,serif\" font-size=\"14.00\">value = [561, 230]</text>\n",
       "<text text-anchor=\"middle\" x=\"1321.27\" y=\"-92.8\" font-family=\"Times,serif\" font-size=\"14.00\">class = Yes</text>\n",
       "</g>\n",
       "<!-- 17&#45;&gt;21 -->\n",
       "<g id=\"edge21\" class=\"edge\"><title>17&#45;&gt;21</title>\n",
       "<path fill=\"none\" stroke=\"black\" d=\"M1274.1,-185.992C1280.27,-177.234 1287.06,-167.585 1293.53,-158.404\"/>\n",
       "<polygon fill=\"black\" stroke=\"black\" points=\"1296.45,-160.334 1299.34,-150.142 1290.72,-156.304 1296.45,-160.334\"/>\n",
       "</g>\n",
       "<!-- 19 -->\n",
       "<g id=\"node20\" class=\"node\"><title>19</title>\n",
       "<polygon fill=\"#e58139\" fill-opacity=\"0.866667\" stroke=\"black\" points=\"1121.81,-50 1002.73,-50 1002.73,-0 1121.81,-0 1121.81,-50\"/>\n",
       "<text text-anchor=\"middle\" x=\"1062.27\" y=\"-34.8\" font-family=\"Times,serif\" font-size=\"14.00\">samples = 878</text>\n",
       "<text text-anchor=\"middle\" x=\"1062.27\" y=\"-20.8\" font-family=\"Times,serif\" font-size=\"14.00\">value = [775, 103]</text>\n",
       "<text text-anchor=\"middle\" x=\"1062.27\" y=\"-6.8\" font-family=\"Times,serif\" font-size=\"14.00\">class = Yes</text>\n",
       "</g>\n",
       "<!-- 18&#45;&gt;19 -->\n",
       "<g id=\"edge19\" class=\"edge\"><title>18&#45;&gt;19</title>\n",
       "<path fill=\"none\" stroke=\"black\" d=\"M1142.62,-85.9375C1129.71,-76.3076 1115.51,-65.7151 1102.69,-56.1483\"/>\n",
       "<polygon fill=\"black\" stroke=\"black\" points=\"1104.59,-53.2036 1094.48,-50.0301 1100.41,-58.8146 1104.59,-53.2036\"/>\n",
       "</g>\n",
       "<!-- 20 -->\n",
       "<g id=\"node21\" class=\"node\"><title>20</title>\n",
       "<polygon fill=\"#e58139\" fill-opacity=\"0.098039\" stroke=\"black\" points=\"1238.31,-50 1140.23,-50 1140.23,-0 1238.31,-0 1238.31,-50\"/>\n",
       "<text text-anchor=\"middle\" x=\"1189.27\" y=\"-34.8\" font-family=\"Times,serif\" font-size=\"14.00\">samples = 19</text>\n",
       "<text text-anchor=\"middle\" x=\"1189.27\" y=\"-20.8\" font-family=\"Times,serif\" font-size=\"14.00\">value = [10, 9]</text>\n",
       "<text text-anchor=\"middle\" x=\"1189.27\" y=\"-6.8\" font-family=\"Times,serif\" font-size=\"14.00\">class = Yes</text>\n",
       "</g>\n",
       "<!-- 18&#45;&gt;20 -->\n",
       "<g id=\"edge20\" class=\"edge\"><title>18&#45;&gt;20</title>\n",
       "<path fill=\"none\" stroke=\"black\" d=\"M1185.98,-85.9375C1186.43,-77.5916 1186.93,-68.5226 1187.4,-60.025\"/>\n",
       "<polygon fill=\"black\" stroke=\"black\" points=\"1190.89,-60.2071 1187.95,-50.0301 1183.9,-59.823 1190.89,-60.2071\"/>\n",
       "</g>\n",
       "<!-- 22 -->\n",
       "<g id=\"node23\" class=\"node\"><title>22</title>\n",
       "<polygon fill=\"#e58139\" fill-opacity=\"0.635294\" stroke=\"black\" points=\"1375.81,-50 1256.73,-50 1256.73,-0 1375.81,-0 1375.81,-50\"/>\n",
       "<text text-anchor=\"middle\" x=\"1316.27\" y=\"-34.8\" font-family=\"Times,serif\" font-size=\"14.00\">samples = 731</text>\n",
       "<text text-anchor=\"middle\" x=\"1316.27\" y=\"-20.8\" font-family=\"Times,serif\" font-size=\"14.00\">value = [536, 195]</text>\n",
       "<text text-anchor=\"middle\" x=\"1316.27\" y=\"-6.8\" font-family=\"Times,serif\" font-size=\"14.00\">class = Yes</text>\n",
       "</g>\n",
       "<!-- 21&#45;&gt;22 -->\n",
       "<g id=\"edge22\" class=\"edge\"><title>21&#45;&gt;22</title>\n",
       "<path fill=\"none\" stroke=\"black\" d=\"M1319.56,-85.9375C1319.1,-77.5916 1318.6,-68.5226 1318.14,-60.025\"/>\n",
       "<polygon fill=\"black\" stroke=\"black\" points=\"1321.63,-59.823 1317.59,-50.0301 1314.64,-60.2071 1321.63,-59.823\"/>\n",
       "</g>\n",
       "<!-- 23 -->\n",
       "<g id=\"node24\" class=\"node\"><title>23</title>\n",
       "<polygon fill=\"#399de5\" fill-opacity=\"0.286275\" stroke=\"black\" points=\"1499.81,-50 1394.73,-50 1394.73,-0 1499.81,-0 1499.81,-50\"/>\n",
       "<text text-anchor=\"middle\" x=\"1447.27\" y=\"-34.8\" font-family=\"Times,serif\" font-size=\"14.00\">samples = 60</text>\n",
       "<text text-anchor=\"middle\" x=\"1447.27\" y=\"-20.8\" font-family=\"Times,serif\" font-size=\"14.00\">value = [25, 35]</text>\n",
       "<text text-anchor=\"middle\" x=\"1447.27\" y=\"-6.8\" font-family=\"Times,serif\" font-size=\"14.00\">class = No</text>\n",
       "</g>\n",
       "<!-- 21&#45;&gt;23 -->\n",
       "<g id=\"edge23\" class=\"edge\"><title>21&#45;&gt;23</title>\n",
       "<path fill=\"none\" stroke=\"black\" d=\"M1364.28,-85.9375C1377.61,-76.3076 1392.28,-65.7151 1405.52,-56.1483\"/>\n",
       "<polygon fill=\"black\" stroke=\"black\" points=\"1407.94,-58.7224 1414,-50.0301 1403.84,-53.0476 1407.94,-58.7224\"/>\n",
       "</g>\n",
       "<!-- 25 -->\n",
       "<g id=\"node26\" class=\"node\"><title>25</title>\n",
       "<polygon fill=\"#e58139\" fill-opacity=\"0.070588\" stroke=\"black\" points=\"1687.58,-150 1560.96,-150 1560.96,-86 1687.58,-86 1687.58,-150\"/>\n",
       "<text text-anchor=\"middle\" x=\"1624.27\" y=\"-134.8\" font-family=\"Times,serif\" font-size=\"14.00\">PRLMISAB &lt;= 8.5</text>\n",
       "<text text-anchor=\"middle\" x=\"1624.27\" y=\"-120.8\" font-family=\"Times,serif\" font-size=\"14.00\">samples = 168</text>\n",
       "<text text-anchor=\"middle\" x=\"1624.27\" y=\"-106.8\" font-family=\"Times,serif\" font-size=\"14.00\">value = [87, 81]</text>\n",
       "<text text-anchor=\"middle\" x=\"1624.27\" y=\"-92.8\" font-family=\"Times,serif\" font-size=\"14.00\">class = Yes</text>\n",
       "</g>\n",
       "<!-- 24&#45;&gt;25 -->\n",
       "<g id=\"edge25\" class=\"edge\"><title>24&#45;&gt;25</title>\n",
       "<path fill=\"none\" stroke=\"black\" d=\"M1624.27,-185.992C1624.27,-177.859 1624.27,-168.959 1624.27,-160.378\"/>\n",
       "<polygon fill=\"black\" stroke=\"black\" points=\"1627.77,-160.142 1624.27,-150.142 1620.77,-160.142 1627.77,-160.142\"/>\n",
       "</g>\n",
       "<!-- 28 -->\n",
       "<g id=\"node29\" class=\"node\"><title>28</title>\n",
       "<polygon fill=\"#399de5\" fill-opacity=\"0.729412\" stroke=\"black\" points=\"1871.05,-150 1759.48,-150 1759.48,-86 1871.05,-86 1871.05,-150\"/>\n",
       "<text text-anchor=\"middle\" x=\"1815.27\" y=\"-134.8\" font-family=\"Times,serif\" font-size=\"14.00\">PRLANY &lt;= 6.5</text>\n",
       "<text text-anchor=\"middle\" x=\"1815.27\" y=\"-120.8\" font-family=\"Times,serif\" font-size=\"14.00\">samples = 47</text>\n",
       "<text text-anchor=\"middle\" x=\"1815.27\" y=\"-106.8\" font-family=\"Times,serif\" font-size=\"14.00\">value = [10, 37]</text>\n",
       "<text text-anchor=\"middle\" x=\"1815.27\" y=\"-92.8\" font-family=\"Times,serif\" font-size=\"14.00\">class = No</text>\n",
       "</g>\n",
       "<!-- 24&#45;&gt;28 -->\n",
       "<g id=\"edge28\" class=\"edge\"><title>24&#45;&gt;28</title>\n",
       "<path fill=\"none\" stroke=\"black\" d=\"M1683.39,-186.663C1704.58,-175.793 1728.57,-163.482 1750.23,-152.369\"/>\n",
       "<polygon fill=\"black\" stroke=\"black\" points=\"1752.06,-155.366 1759.36,-147.687 1748.86,-149.138 1752.06,-155.366\"/>\n",
       "</g>\n",
       "<!-- 26 -->\n",
       "<g id=\"node27\" class=\"node\"><title>26</title>\n",
       "<polygon fill=\"#e58139\" fill-opacity=\"0.454902\" stroke=\"black\" points=\"1623.81,-50 1518.73,-50 1518.73,-0 1623.81,-0 1623.81,-50\"/>\n",
       "<text text-anchor=\"middle\" x=\"1571.27\" y=\"-34.8\" font-family=\"Times,serif\" font-size=\"14.00\">samples = 71</text>\n",
       "<text text-anchor=\"middle\" x=\"1571.27\" y=\"-20.8\" font-family=\"Times,serif\" font-size=\"14.00\">value = [46, 25]</text>\n",
       "<text text-anchor=\"middle\" x=\"1571.27\" y=\"-6.8\" font-family=\"Times,serif\" font-size=\"14.00\">class = Yes</text>\n",
       "</g>\n",
       "<!-- 25&#45;&gt;26 -->\n",
       "<g id=\"edge26\" class=\"edge\"><title>25&#45;&gt;26</title>\n",
       "<path fill=\"none\" stroke=\"black\" d=\"M1606.18,-85.9375C1601.1,-77.2247 1595.57,-67.724 1590.43,-58.9078\"/>\n",
       "<polygon fill=\"black\" stroke=\"black\" points=\"1593.32,-56.9098 1585.26,-50.0301 1587.27,-60.4328 1593.32,-56.9098\"/>\n",
       "</g>\n",
       "<!-- 27 -->\n",
       "<g id=\"node28\" class=\"node\"><title>27</title>\n",
       "<polygon fill=\"#399de5\" fill-opacity=\"0.266667\" stroke=\"black\" points=\"1747.81,-50 1642.73,-50 1642.73,-0 1747.81,-0 1747.81,-50\"/>\n",
       "<text text-anchor=\"middle\" x=\"1695.27\" y=\"-34.8\" font-family=\"Times,serif\" font-size=\"14.00\">samples = 97</text>\n",
       "<text text-anchor=\"middle\" x=\"1695.27\" y=\"-20.8\" font-family=\"Times,serif\" font-size=\"14.00\">value = [41, 56]</text>\n",
       "<text text-anchor=\"middle\" x=\"1695.27\" y=\"-6.8\" font-family=\"Times,serif\" font-size=\"14.00\">class = No</text>\n",
       "</g>\n",
       "<!-- 25&#45;&gt;27 -->\n",
       "<g id=\"edge27\" class=\"edge\"><title>25&#45;&gt;27</title>\n",
       "<path fill=\"none\" stroke=\"black\" d=\"M1648.5,-85.9375C1655.52,-76.9496 1663.18,-67.1231 1670.24,-58.0747\"/>\n",
       "<polygon fill=\"black\" stroke=\"black\" points=\"1673.13,-60.0673 1676.52,-50.0301 1667.61,-55.7613 1673.13,-60.0673\"/>\n",
       "</g>\n",
       "<!-- 29 -->\n",
       "<g id=\"node30\" class=\"node\"><title>29</title>\n",
       "<polygon fill=\"#399de5\" fill-opacity=\"0.400000\" stroke=\"black\" points=\"1864.31,-50 1766.23,-50 1766.23,-0 1864.31,-0 1864.31,-50\"/>\n",
       "<text text-anchor=\"middle\" x=\"1815.27\" y=\"-34.8\" font-family=\"Times,serif\" font-size=\"14.00\">samples = 24</text>\n",
       "<text text-anchor=\"middle\" x=\"1815.27\" y=\"-20.8\" font-family=\"Times,serif\" font-size=\"14.00\">value = [9, 15]</text>\n",
       "<text text-anchor=\"middle\" x=\"1815.27\" y=\"-6.8\" font-family=\"Times,serif\" font-size=\"14.00\">class = No</text>\n",
       "</g>\n",
       "<!-- 28&#45;&gt;29 -->\n",
       "<g id=\"edge29\" class=\"edge\"><title>28&#45;&gt;29</title>\n",
       "<path fill=\"none\" stroke=\"black\" d=\"M1815.27,-85.9375C1815.27,-77.6833 1815.27,-68.7219 1815.27,-60.3053\"/>\n",
       "<polygon fill=\"black\" stroke=\"black\" points=\"1818.77,-60.03 1815.27,-50.0301 1811.77,-60.0301 1818.77,-60.03\"/>\n",
       "</g>\n",
       "<!-- 30 -->\n",
       "<g id=\"node31\" class=\"node\"><title>30</title>\n",
       "<polygon fill=\"#399de5\" fill-opacity=\"0.952941\" stroke=\"black\" points=\"1981.31,-50 1883.23,-50 1883.23,-0 1981.31,-0 1981.31,-50\"/>\n",
       "<text text-anchor=\"middle\" x=\"1932.27\" y=\"-34.8\" font-family=\"Times,serif\" font-size=\"14.00\">samples = 23</text>\n",
       "<text text-anchor=\"middle\" x=\"1932.27\" y=\"-20.8\" font-family=\"Times,serif\" font-size=\"14.00\">value = [1, 22]</text>\n",
       "<text text-anchor=\"middle\" x=\"1932.27\" y=\"-6.8\" font-family=\"Times,serif\" font-size=\"14.00\">class = No</text>\n",
       "</g>\n",
       "<!-- 28&#45;&gt;30 -->\n",
       "<g id=\"edge30\" class=\"edge\"><title>28&#45;&gt;30</title>\n",
       "<path fill=\"none\" stroke=\"black\" d=\"M1855.21,-85.9375C1867.47,-76.3993 1880.95,-65.9167 1893.15,-56.4219\"/>\n",
       "<polygon fill=\"black\" stroke=\"black\" points=\"1895.63,-58.9323 1901.37,-50.0301 1891.33,-53.4068 1895.63,-58.9323\"/>\n",
       "</g>\n",
       "</g>\n",
       "</svg>\n"
      ],
      "text/plain": [
       "<graphviz.files.Source at 0x11387b860>"
      ]
     },
     "metadata": {},
     "output_type": "display_data"
    }
   ],
   "source": [
    "from IPython.display import display\n",
    "\n",
    "import graphviz\n",
    "\n",
    "with open('tree.dot') as f:\n",
    "    dot_graph = f.read()\n",
    "\n",
    "display(graphviz.Source(dot_graph))"
   ]
  },
  {
   "cell_type": "markdown",
   "metadata": {},
   "source": [
    "## Feature Importance in Trees\n",
    "* Relates how important each feature is for the decision a tree makes\n",
    "* Values range from 0 = \"Not at all\", to 1 = perfectly predicts target\"\n",
    "* Feature importances always sum to a total of 1.\n",
    "\n",
    "## 3.5 Visualize Feature Importancee\n",
    "* Similar to how we visualized coefficients in linear model\n",
    "* Features used in top split (\"worst radius\") is most important feature\n",
    "* Features with low importance may be redundant with another feature that encodes same info "
   ]
  },
  {
   "cell_type": "code",
   "execution_count": 17,
   "metadata": {},
   "outputs": [
    {
     "name": "stdout",
     "output_type": "stream",
     "text": [
      "Feature importances:\n",
      "[ 0.          0.          0.          0.          0.          0.          0.\n",
      "  0.          0.06541843  0.05071549  0.17928188  0.02100762  0.\n",
      "  0.68014547  0.0034311   0.          0.        ]\n"
     ]
    }
   ],
   "source": [
    "print(\"Feature importances:\\n{}\".format(tree.feature_importances_))"
   ]
  },
  {
   "cell_type": "code",
   "execution_count": 18,
   "metadata": {},
   "outputs": [
    {
     "data": {
      "image/png": "[encoded data removed]",
      "text/plain": [
       "<matplotlib.figure.Figure at 0x11d774438>"
      ]
     },
     "metadata": {},
     "output_type": "display_data"
    }
   ],
   "source": [
    "def plot_feature_importances_heroin(model):\n",
    "    n_features = opioids.data.shape[1]\n",
    "    plt.barh(range(n_features), model.feature_importances_, align='center')\n",
    "    plt.yticks(np.arange(n_features), features)\n",
    "    plt.xlabel(\"Feature importance\")\n",
    "    plt.ylabel(\"Feature\")\n",
    "\n",
    "plot_feature_importances_heroin(tree)"
   ]
  },
  {
   "cell_type": "markdown",
   "metadata": {},
   "source": [
    "# Part 4. Random Forests Classifier\n",
    "* Random forest gives better accuracy than linear models or single decision tree, without tuning any parameters\n",
    "\n",
    "## Building Random Forests\n",
    "* First, need to decide how many trees to build: `n_estimators` parameter\n",
    "* Trees are built independently of each other, based on \"bootstrap\" samples: `n_samples`\n",
    "* Algorithm randomly selects subset of features, number determined by `max_features` paramter\n",
    "* Each node of tree makes decision involving different subset of features\n",
    "\n",
    "### Bootstrap Sampling and Subsets of Features\n",
    "* Each decision tree in random forest is built on slightly different dataset\n",
    "* Each split in each tree operates on different subset of features\n",
    "\n",
    "## Critical Parameter: max_features\n",
    "* If `max_features` set to `n_features`, each split can look at all features inthe dataset, no randomness in selection\n",
    "* High `max_features` means the trees in a random forest will be quite similar\n",
    "* Low `max_feature` means trees in random forest will be quite different\n",
    "\n",
    "### Prediction with Random Forests\n",
    "* Algorithm first makes prediction for every tree in the forest\n",
    "* For classification, a \"soft voting\" is applied, probabilities for all trees are then averaged, and class with highest probability is predicted\n",
    "\n",
    "## 3.1 Build Random Forests Classifier: Heroin\n",
    "* Split data into train and test sets; \n",
    "* set `n_estimators` to 100 trees; build model on the training set"
   ]
  },
  {
   "cell_type": "code",
   "execution_count": 19,
   "metadata": {},
   "outputs": [
    {
     "data": {
      "text/plain": [
       "RandomForestClassifier(bootstrap=True, class_weight=None, criterion='gini',\n",
       "            max_depth=None, max_features='auto', max_leaf_nodes=None,\n",
       "            min_impurity_split=1e-07, min_samples_leaf=1,\n",
       "            min_samples_split=2, min_weight_fraction_leaf=0.0,\n",
       "            n_estimators=100, n_jobs=1, oob_score=False, random_state=0,\n",
       "            verbose=0, warm_start=False)"
      ]
     },
     "execution_count": 19,
     "metadata": {},
     "output_type": "execute_result"
    }
   ],
   "source": [
    "from sklearn.ensemble import RandomForestClassifier\n",
    "\n",
    "forest = RandomForestClassifier(n_estimators=100, random_state=0)\n",
    "forest.fit(X_train, y_train)"
   ]
  },
  {
   "cell_type": "markdown",
   "metadata": {},
   "source": [
    "## 3.2 Evaluate Random Forests Classifier on Test set"
   ]
  },
  {
   "cell_type": "code",
   "execution_count": 20,
   "metadata": {},
   "outputs": [
    {
     "name": "stdout",
     "output_type": "stream",
     "text": [
      "Accuracy on training set: 0.999\n",
      "Accuracy on test set: 0.984\n"
     ]
    }
   ],
   "source": [
    "print(\"Accuracy on training set: {:.3f}\".format(forest.score(X_train, y_train)))\n",
    "print(\"Accuracy on test set: {:.3f}\".format(forest.score(X_test, y_test)))"
   ]
  },
  {
   "cell_type": "markdown",
   "metadata": {},
   "source": [
    "## 3.3 Features Importance for Random Forest\n",
    "* Computed by aggregating the feature importances over the trees in the forest\n",
    "* Feature importances provided by Random Forest are more reliable than provided by single tree\n",
    "* Many more features have non-zero importance than single tree, chooses similar features"
   ]
  },
  {
   "cell_type": "code",
   "execution_count": 21,
   "metadata": {},
   "outputs": [
    {
     "data": {
      "image/png": "[encoded data removed]",
      "text/plain": [
       "<matplotlib.figure.Figure at 0x117a35f60>"
      ]
     },
     "metadata": {},
     "output_type": "display_data"
    }
   ],
   "source": [
    "plot_feature_importances_heroin(forest)"
   ]
  },
  {
   "cell_type": "markdown",
   "metadata": {},
   "source": [
    "# Part 5. Gradient Boosted Classifier Trees\n",
    "* Works by building trees in a serial manner, where each tree tries to correct for mistakes of previous ones\n",
    "* Main idea: combine many simple models, shallow trees ('weak learners'); more tree iteratively improves performance\n",
    "\n",
    "### Parameters\n",
    "* Pre-pruning, and number of trees in ensemble\n",
    "* learning_rate parameter controls how strongly each tree tries to correct mistakes of previous trees\n",
    "* Add more trees to model with n_estimators, increases model complexity\n",
    "\n",
    "## 5.1 Build Gradient Boosting Classifier for Heroin\n",
    "With 100 trees, of maximum depth 3, and learning rate of 0.1"
   ]
  },
  {
   "cell_type": "code",
   "execution_count": 22,
   "metadata": {},
   "outputs": [
    {
     "data": {
      "text/plain": [
       "GradientBoostingClassifier(criterion='friedman_mse', init=None,\n",
       "              learning_rate=0.01, loss='deviance', max_depth=3,\n",
       "              max_features=None, max_leaf_nodes=None,\n",
       "              min_impurity_split=1e-07, min_samples_leaf=1,\n",
       "              min_samples_split=2, min_weight_fraction_leaf=0.0,\n",
       "              n_estimators=100, presort='auto', random_state=0,\n",
       "              subsample=1.0, verbose=0, warm_start=False)"
      ]
     },
     "execution_count": 22,
     "metadata": {},
     "output_type": "execute_result"
    }
   ],
   "source": [
    "from sklearn.ensemble import GradientBoostingClassifier\n",
    "\n",
    "gbrt = GradientBoostingClassifier(random_state=0, n_estimators=100, max_depth=3, learning_rate=0.01)\n",
    "gbrt.fit(X_train, y_train)"
   ]
  },
  {
   "cell_type": "markdown",
   "metadata": {},
   "source": [
    "## 5.2 Feature Importance\n",
    "* With 100 trees, cannot inspect them all, even if maximum depth is only 1"
   ]
  },
  {
   "cell_type": "code",
   "execution_count": 23,
   "metadata": {},
   "outputs": [
    {
     "data": {
      "image/png": "[encoded data removed]",
      "text/plain": [
       "<matplotlib.figure.Figure at 0x11a3bb198>"
      ]
     },
     "metadata": {},
     "output_type": "display_data"
    }
   ],
   "source": [
    "gbrt = GradientBoostingClassifier(random_state=0, max_depth=1)\n",
    "gbrt.fit(X_train, y_train)\n",
    "\n",
    "plot_feature_importances_heroin(gbrt)"
   ]
  }
 ],
 "metadata": {
  "kernelspec": {
   "display_name": "Python 3",
   "language": "python",
   "name": "python3"
  },
  "language_info": {
   "codemirror_mode": {
    "name": "ipython",
    "version": 3
   },
   "file_extension": ".py",
   "mimetype": "text/x-python",
   "name": "python",
   "nbconvert_exporter": "python",
   "pygments_lexer": "ipython3",
   "version": "3.6.1"
  }
 },
 "nbformat": 4,
 "nbformat_minor": 2
}
