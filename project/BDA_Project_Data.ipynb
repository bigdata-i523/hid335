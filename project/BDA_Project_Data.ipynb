{
 "cells": [
  {
   "cell_type": "markdown",
   "metadata": {},
   "source": [
    "# BDA_Fall17: Data for Final Project\n",
    "### Sean M. Shiverick, IU-Bloomington\n",
    "\n",
    "## 2015 National Survey on Drug Abuse and Health (NSDUH)\n",
    "* Substance Abuse and Mental Health Services Administration \n",
    "* Center for Behavioral Health Statistics and Quality, October 27, 2016\n",
    "* http://datafiles.samhsa.gov/study/national-survey-drug-use-and-health-nsduh-2015-nid16893\n",
    "\n",
    "\n",
    "# Data Cleaning and Preparation\n",
    "* Import python modules\n",
    "* load data file and save as DataFrame object\n",
    "* Subset dataframe by column"
   ]
  },
  {
   "cell_type": "code",
   "execution_count": null,
   "metadata": {},
   "outputs": [],
   "source": [
    "import numpy as np\n",
    "import pandas as pd\n",
    "import matplotlib.pyplot as plt\n",
    "%matplotlib inline"
   ]
  },
  {
   "cell_type": "code",
   "execution_count": null,
   "metadata": {
    "collapsed": true
   },
   "outputs": [],
   "source": [
    "file = pd.read_table('NSDUH-2015.tsv', low_memory=False)\n",
    "data = pd.DataFrame(file)"
   ]
  },
  {
   "cell_type": "code",
   "execution_count": null,
   "metadata": {},
   "outputs": [],
   "source": [
    "data.shape"
   ]
  },
  {
   "cell_type": "code",
   "execution_count": null,
   "metadata": {},
   "outputs": [],
   "source": [
    "opioid_df = pd.DataFrame(data, columns=['QUESTID2', 'CATAG6', 'IRSEX','IRMARITSTAT',\n",
    "        'EDUHIGHCAT', 'IRWRKSTAT18', 'COUTYP2', 'HEALTH2','STDANYYR1',\n",
    "        'HEPBCEVER1','HIVAIDSEV1','CANCEREVR1','INHOSPYR','AMDELT',\n",
    "        'AMDEYR','ADDPR2WK1','ADWRDST1','DSTWORST1','IMPGOUTM1',\n",
    "        'IMPSOCM1','IMPRESPM1','SUICTHNK1','SUICPLAN1','SUICTRY1',\n",
    "        'PNRNMLIF','PNRNM30D','PNRWYGAMT','PNRNMFLAG','PNRNMYR',\n",
    "        'PNRNMMON','OXYCNNMYR','DEPNDPYPNR','ABUSEPYPNR','PNRRSHIGH',\n",
    "        'HYDCPDAPYU','OXYCPDAPYU','OXCNANYYR2','TRAMPDAPYU','MORPPDAPYU',\n",
    "        'FENTPDAPYU','BUPRPDAPYU','OXYMPDAPYU','DEMEPDAPYU','HYDMPDAPYU',\n",
    "        'HERFLAG','HERYR','HERMON','ABODHER', 'MTDNPDAPYU',\n",
    "        'IRHERFY','TRBENZAPYU','ALPRPDAPYU','LORAPDAPYU','CLONPDAPYU',\n",
    "        'DIAZPDAPYU','SVBENZAPYU','TRIAPDAPYU','TEMAPDAPYU','BARBITAPYU',\n",
    "        'SEDOTANYR2','COCFLAG','COCYR','COCMON','CRKFLAG',\n",
    "        'CRKYR','AMMEPDAPYU','METHAMFLAG','METHAMYR','METHAMMON',\n",
    "        'HALLUCFLAG','LSDFLAG','ECSTMOFLAG','DAMTFXFLAG','KETMINFLAG',\n",
    "        'TXYRRESOV1','TXYROUTPT1','TXYRMHCOP1','TXYREMRGN1','TXCURRENT1',\n",
    "        'TXLTYPNRL1','TXYRNOSPIL','AUOPTYR1','MHLMNT3','MHLTHER3',\n",
    "        'MHLDOC3','MHLCLNC3','MHLDTMT3','AUINPYR1','AUALTYR1'])\n",
    "opioid_df.shape"
   ]
  },
  {
   "cell_type": "code",
   "execution_count": null,
   "metadata": {},
   "outputs": [],
   "source": [
    "opioid_df.head()"
   ]
  },
  {
   "cell_type": "code",
   "execution_count": null,
   "metadata": {},
   "outputs": [],
   "source": [
    "opioid_df.tail()"
   ]
  },
  {
   "cell_type": "markdown",
   "metadata": {},
   "source": [
    "## Recode null and `NaN` missing values\n",
    "* Replace values for `Bad Data`, `Don't know`, `Refused`, `Blank`, `Skip` with `NaN`\n",
    "* Replace `NaN` with `0`"
   ]
  },
  {
   "cell_type": "code",
   "execution_count": null,
   "metadata": {},
   "outputs": [],
   "source": [
    "opioid_df.replace([83, 85, 91, 93, 94, 97, 98, 99, 991, 993], np.nan, inplace=True)\n",
    "opioid_df.fillna(0, inplace=True)\n",
    "opioid_df.head()"
   ]
  },
  {
   "cell_type": "markdown",
   "metadata": {
    "collapsed": true
   },
   "source": [
    "## Recode values for selected features:\n",
    "Order matters here, because some variables were recoded into new variables\n",
    "* Recode `2=1`: \n",
    "`['STDANYYR1','HEPBCEVER1', 'HIVAIDSEV1', 'CANCEREVR1', 'INHOSPYR ',\n",
    "  'AMDELT','AMDEYR','ADDPR2WK1','DSTWORST1', 'IMPGOUTM1',\n",
    "  'IMPSOCM1','IMPRESPM1','SUICTHNK1','SUICPLAN1','SUICTRY1',\n",
    "  'PNRNMLIF','PNRNM30D','PNRWYGAMT','PNRWYGAMT','PNRRSHIGH'\n",
    "  'TXYRRESOV1','TXYROUTPT1','TXYRMHCOP1','TXYREMRGN1', 'TXCURRENT1', \n",
    "  'TXLTYPNRL1','AUOPTYR1','AUINPYR1','AUALTYR1']`  \n",
    "* Recode `['PNRRSHIGH', 'TXLTYPNRL1','TXYREMRGN1', 'AUOPTYR1','AUALTYR1']`: `3=1`\n",
    "* Recode `['TXYRRESOV1', 'TXYROUTPT1','TXYRMHCOP1']`: `5=1`\n",
    "* Recode `TXLTYPNRL`: `6=0`\n",
    "* Recode `IRSEX` to `male=0`, `female=1`\n",
    "* Recode `IRMARITSTAT`: `1=4`, `2=3`, `3=2`, `4=1`\n",
    "* Recode `EDUHIGHCAT`: `5=0`\n",
    "* Recode `IRWRKSTAT18`: `1=2`, `2=1`, `3=0`, `4=0`\n",
    "* Recode `COUTYP2`: `1=3`, `3=1`\n",
    "* Recode `ADWRDST1`: `1=0`, `2=1`, `3=2`, `4=3`\n",
    "\n",
    "\n"
   ]
  },
  {
   "cell_type": "code",
   "execution_count": null,
   "metadata": {},
   "outputs": [],
   "source": [
    "columns = ['STDANYYR1','HEPBCEVER1', 'HIVAIDSEV1', 'CANCEREVR1', 'INHOSPYR ',\n",
    "  'AMDELT','AMDEYR','ADDPR2WK1','DSTWORST1', 'IMPGOUTM1',\n",
    "  'IMPSOCM1','IMPRESPM1','SUICTHNK1','SUICPLAN1','SUICTRY1',\n",
    "  'PNRNMLIF','PNRNM30D','PNRWYGAMT','PNRWYGAMT','PNRRSHIGH'\n",
    "  'TXYRRESOV1','TXYROUTPT1','TXYRMHCOP1','TXYREMRGN1', 'TXCURRENT1', \n",
    "  'TXLTYPNRL1','AUOPTYR1','AUINPYR1','AUALTYR1']\n",
    " \n",
    "for col in opioid_df:\n",
    "    opioid_df[col].replace(2,1,inplace=True)\n",
    "\n",
    "opioid_df.head()"
   ]
  },
  {
   "cell_type": "code",
   "execution_count": null,
   "metadata": {},
   "outputs": [],
   "source": [
    "col = ['PNRRSHIGH', 'TXLTYPNRL1', 'TXYREMRGN1', 'AUOPTYR1','AUALTYR1']\n",
    "\n",
    "for col in opioid_df:\n",
    "    opioid_df[col].replace(3,1,inplace=True)\n",
    "\n",
    "opioid_df.head()"
   ]
  },
  {
   "cell_type": "code",
   "execution_count": null,
   "metadata": {},
   "outputs": [],
   "source": [
    "opioid_df['SEX'] = opioid_df['IRSEX'].replace([1,2], [0,1])\n",
    "opioid_df['MARRIED'] = opioid_df['IRMARITSTAT'].replace([1,2,3,4], [4,3,2,1])\n",
    "opioid_df['EDUCAT'] = opioid_df['EDUHIGHCAT'].replace([1,2,3,4,5], [2,3,4,5,1])\n",
    "opioid_df['EMPLOY18'] = opioid_df['IRWRKSTAT18'].replace([1,2,3,4], [2,1,0,0])\n",
    "opioid_df['CTYMETRO'] = opioid_df['COUTYP2'].replace([1,2,3],[3,2,1])\n",
    "\n",
    "opioid_df['EMODSWKS'] = opioid_df['ADWRDST1'].replace([1,2,3,4], [0,1,2,3])\n",
    "opioid_df['TXLTPNRL'] = opioid_df['TXLTYPNRL1'].replace(6,0)\n",
    "\n",
    "opioid_df['TXYRRESOV'] = opioid_df['TXYRRESOV1'].replace(5,1)\n",
    "opioid_df['TXYROUTPT'] = opioid_df['TXYROUTPT1'].replace(5,1)\n",
    "opioid_df['TXYRMHCOP'] = opioid_df['TXYRMHCOP1'].replace(5,1)\n",
    "\n",
    "opioid_df.head()"
   ]
  },
  {
   "cell_type": "markdown",
   "metadata": {},
   "source": [
    "### Rename Delect Features for Description"
   ]
  },
  {
   "cell_type": "code",
   "execution_count": null,
   "metadata": {},
   "outputs": [],
   "source": [
    "opioid_df.columns"
   ]
  },
  {
   "cell_type": "code",
   "execution_count": null,
   "metadata": {
    "collapsed": true
   },
   "outputs": [],
   "source": [
    "opioid_df =  opioid_df.rename(columns={'QUESTID2':'QID','CATAG6':'AGECAT',\n",
    "     'STDANYYR1':'STDPYR','HEPBCEVER1':'HEPEVR','CANCEREVR1':'CANCEVR','INHOSPYR':'HOSPYR', \n",
    "     'AMDELT':'DEPMELT','AMDEYR':'DEPMEYR','ADDPR2WK1':'DEPMWKS','DSTWORST1':'DEPWMOS',\n",
    "     'IMPGOUTM1':'EMOPGOUT','IMPSOCM1':'EMOPSOC','IMPRESPM1':'EMOPWRK',\n",
    "     'SUICTHNK1':'SUICTHT','SUICPLAN1':'SUICPLN','SUICTRY1':'SUICATT',\n",
    "     'PNRNMLIF':'PRLUNDR','PNRNM30D':'PRLUNDR30','PNRWYGAMT':'PRLGRTYR',\n",
    "     'PNRNMFLAG':'PRLMISEVR','PNRNMYR':'PRLMISYR','PNRNMMON':'PRLMISMO',\n",
    "     'OXYCNNMYR':'PRLOXYMSYR','DEPNDPYPNR':'PRLDEPYR','ABUSEPYPNR':'PRLABSRY',     \n",
    "     'PNRRSHIGH':'PRLHIGH','HYDCPDAPYU':'HYDRCDYR','OXYCPDAPYU':'OXYCDPRYR', \n",
    "     \n",
    "     'OXCNANYYR2':'OXYCTNYR','TRAMPDAPYU':'TRMADLYR','MORPPDAPYU':'MORPHPRYR',\n",
    "     'FENTPDAPYU':'FENTNYLYR','BUPRPDAPYU':'BUPRNRPHN','OXYMPDAPYU':'OXYMORPHN',\n",
    "     'DEMEPDAPYU':'DEMEROL','HYDMPDAPYU':'HYDRMRPHN','HERFLAG':'HEROINEVR',\n",
    "     'HERMON':'HEROINYR', 'HERMON':'HEROINMO','ABODHER':'HEROINAB',\n",
    "     'MTDNPDAPYU':'METHADONE','IRHERFY':'HEROINFQY',\n",
    "     \n",
    "     'TRBENZAPYU':'TRQBENZODZ','ALPRPDAPYU':'TRQALPRZM','LORAPDAPYU':'TRQLRZPM',\n",
    "     'CLONPDAPYU':'TRQCLNZPM','DIAZPDAPYU':'TRQDIAZPM','SVBENZAPYU':'SDBENZDPN',\n",
    "     'TRIAPDAPYU':'SDTRZLM','TEMAPDAPYU':'SDTMZPM','BARBITAPYU':'SDBARBTS', \n",
    "     'SEDOTANYR2':'SDOTHYR','COCFLAG':'COCNEVR','COCYR':'COCNYR','COCMON':'COCNMO',\n",
    "     'CRKFLAG':'CRACKEVR','CRKYR':'CRACKYR','AMMEPDAPYU':'AMPHTMNYR', \n",
    "     'METHAMFLAG':'METHEVR','METHAMYR':'METHYR','METHAMMON':'METHMO',\n",
    "     'HALLUCFLAG':'HLCNEVR','LSDFLAG':'LSDEVR','ECSTMOFLAG':'MDMAEVR',\n",
    "     'DAMTFXFLAG':'DMTEVR','KETMINFLAG':'KETMNEVR', \n",
    "     \n",
    "     'TXYRRESOV':'TRTRHBOVN','TXYROUTPT':'TRTRHBOUT','TXYRMHCOP':'TRTMHCTR',\n",
    "     'TXYREMRGN1':'TRTERYR','TXCURRENT1':'TRTCURRCV','TRMLTPNRL':'TRTCURPRL',\n",
    "     'TXYRNOSPIL':'TRTGAPYR','AUOPTYR1':'MHTRTOYR','MHLMNT3':'MHTRTCLYR',\n",
    "     'MHLTHER3':'MHTRTTHPY','MHLDOC3':'MHTRTDRYR', 'MHLCLNC3':'MHTRTMDOUT',\n",
    "     'MHLDTMT3':'MHTRTHPPGM','AUINPYR1':'MHTRTHSPON','AUALTYR1':'MHTRTALT']]\n",
    "     \n",
    "print(opioid_df.keys())"
   ]
  },
  {
   "cell_type": "markdown",
   "metadata": {},
   "source": [
    "## Revised Data Frame with updated features"
   ]
  },
  {
   "cell_type": "code",
   "execution_count": null,
   "metadata": {},
   "outputs": [],
   "source": [
    "opioid_DF = opioid_df[['QID','AGECAT','SEX','MARRIED','EDUCAT','EMPLOY18','CTYMETRO',\n",
    "                       'HEALTH2','STDPYR','HEPEVER','HIVAIDSEV1','CANCEREVR1','HOSPYR',\n",
    "                       'DEPMELT','DEPMEYR','DEPMWKS','DEPWMOS',\n",
    "                       'EMODSWKS','IMPGOUTM1','IMPSOCM1','IMPRESPM1',\n",
    "                       'SUICTHNK1','SUICPLAN1','SUICTRY1',\n",
    "                       \n",
    "                       'PNRNMLIF','PNRNM30D',\n",
    "    'PNRWYGAMT','PNRNMFLAG','PNRNMYR','PNRNMMON','OXYCNNMYR',\n",
    "    'DEPNDPYPNR','ABUSEPYPNR','PNRRSHIGH','HYDCPDAPYU','OXYCPDAPYU',\n",
    "    'OXCNANYYR2','TRAMPDAPYU','MORPPDAPYU','FENTPDAPYU','BUPRPDAPYU',\n",
    "    'OXYMPDAPYU','DEMEPDAPYU','HYDMPDAPYU','HERFLAG','HERYR',\n",
    "    'HERMON','ABODHER', 'MTDNPDAPYU','IRHERFY','TRBENZAPYU',\n",
    "    'ALPRPDAPYU','LORAPDAPYU','CLONPDAPYU', 'DIAZPDAPYU','SVBENZAPYU',\n",
    "    'TRIAPDAPYU','TEMAPDAPYU','BARBITAPYU', 'SEDOTANYR2','COCFLAG',\n",
    "    'COCYR','COCMON','CRKFLAG','CRKYR','AMMEPDAPYU',\n",
    "    'METHAMFLAG','METHAMYR','METHAMMON','HALLUCFLAG','LSDFLAG',\n",
    "    'ECSTMOFLAG','DAMTFXFLAG','KETMINFLAG', 'TXYRRESOV','TXYROUTPT',\n",
    "    'TXYRMHCOP','TXYREMRGN1', 'TXCURRENT1', 'TRMLTPNRL','TXYRNOSPIL',\n",
    "                       'AUOPTYR1','MHLMNT3','MHLTHER3', 'MHLDOC3','MHLCLNC3',\n",
    "                       'MHLDTMT3','AUINPYR1','AUALTYR1']]\n",
    "opioid_DF.shape"
   ]
  },
  {
   "cell_type": "code",
   "execution_count": null,
   "metadata": {},
   "outputs": [],
   "source": [
    "opioid_DF.keys()"
   ]
  },
  {
   "cell_type": "code",
   "execution_count": null,
   "metadata": {
    "collapsed": true
   },
   "outputs": [],
   "source": []
  }
 ],
 "metadata": {
  "kernelspec": {
   "display_name": "Python 3",
   "language": "python",
   "name": "python3"
  },
  "language_info": {
   "codemirror_mode": {
    "name": "ipython",
    "version": 3
   },
   "file_extension": ".py",
   "mimetype": "text/x-python",
   "name": "python",
   "nbconvert_exporter": "python",
   "pygments_lexer": "ipython3",
   "version": "3.6.1"
  }
 },
 "nbformat": 4,
 "nbformat_minor": 2
}
